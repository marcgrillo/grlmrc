{
 "cells": [
  {
   "cell_type": "code",
   "execution_count": 1,
   "metadata": {
    "colab": {},
    "colab_type": "code",
    "id": "5M-SnOdC1PqH"
   },
   "outputs": [],
   "source": [
    "import os   #These two are useful modules\n",
    "import sys\n",
    "\n",
    "import numpy as np #Numerical Python"
   ]
  },
  {
   "cell_type": "code",
   "execution_count": 2,
   "metadata": {
    "colab": {
     "base_uri": "https://localhost:8080/",
     "height": 35
    },
    "colab_type": "code",
    "id": "VCBKOr9W1PqQ",
    "outputId": "697a0956-195b-4204-c47d-912aa384e147"
   },
   "outputs": [
    {
     "name": "stdout",
     "output_type": "stream",
     "text": [
      "I am in dir /home/jovyan/work/grlmrc/PLS/Code\n",
      "Main directory is /home/jovyan/work/grlmrc/PLS\n",
      "data dir is /home/jovyan/work/grlmrc/PLS/Data\n"
     ]
    }
   ],
   "source": [
    "# Let's define te directory where you are with the \"get current working directory\" command...\n",
    "work_dir = os.getcwd()\n",
    "print(\"I am in dir %s\" % work_dir)\n",
    "\n",
    "#We can go up by using the path.dirname\n",
    "main_dir =os.path.dirname(work_dir)\n",
    "print(\"Main directory is %s\" % main_dir)\n",
    "\n",
    "#We can then define the data directory using the os.path.join command\n",
    "data_dir = os.path.join(main_dir,\"Data\")\n",
    "print(\"data dir is %s\" % data_dir)\n",
    "\n",
    "#..and we can define some output directory with the results\n",
    "results_dir = os.path.join(main_dir,\"results\")\n",
    "\n",
    "#if the directory does not exist, you can create it...\n",
    "if not os.path.exists(results_dir):\n",
    "    os.mkdir(results_dir)\n",
    "    print(\"Directory %s created !\" % results_dir)"
   ]
  },
  {
   "cell_type": "code",
   "execution_count": null,
   "metadata": {},
   "outputs": [],
   "source": [
    "regioniEProvincie = {\n",
    "\"regioni\": [\"Sicilia\", \"Piemonte\", \"Marche\", \"Valle d'Aosta\", \"Toscana\", \"Campania\", \"Puglia\", \"Veneto\", \"Lombardia\", \"Emilia-Romagna\", \"Trentino-Alto Adige\", \"Sardegna\", \"Molise\", \"Calabria\", \"Abruzzo\", \"Lazio\", \"Liguria\", \"Friuli-Venezia Giulia\", \"Basilicata\", \"Umbria\"],\n",
    "\"Sicilia\": [{\n",
    "\"nome\": \"Agrigento \",\n",
    "\"sigla\": \"AG\"\n",
    "}, {\n",
    "\"nome\": \"Caltanissetta \",\n",
    "\"sigla\": \"CL\"\n",
    "}, {\n",
    "\"nome\": \"Catania \",\n",
    "\"sigla\": \"CT\"\n",
    "}, {\n",
    "\"nome\": \"Enna \",\n",
    "\"sigla\": \"EN\"\n",
    "}, {\n",
    "\"nome\": \"Messina \",\n",
    "\"sigla\": \"ME\"\n",
    "}, {\n",
    "\"nome\": \"Palermo \",\n",
    "\"sigla\": \"PA\"\n",
    "}, {\n",
    "\"nome\": \"Ragusa \",\n",
    "\"sigla\": \"RG\"\n",
    "}, {\n",
    "\"nome\": \"Siracusa \",\n",
    "\"sigla\": \"SR\"\n",
    "}, {\n",
    "\"nome\": \"Trapani \",\n",
    "\"sigla\": \"TP\"\n",
    "}],\n",
    "\"Piemonte\": [{\n",
    "\"nome\": \"Alessandria \",\n",
    "\"sigla\": \"AL\"\n",
    "}, {\n",
    "\"nome\": \"Asti \",\n",
    "\"sigla\": \"AT\"\n",
    "}, {\n",
    "\"nome\": \"Biella \",\n",
    "\"sigla\": \"BI\"\n",
    "}, {\n",
    "\"nome\": \"Cuneo \",\n",
    "\"sigla\": \"CN\"\n",
    "}, {\n",
    "\"nome\": \"Novara \",\n",
    "\"sigla\": \"NO\"\n",
    "}, {\n",
    "\"nome\": \"Torino \",\n",
    "\"sigla\": \"TO\"\n",
    "}, {\n",
    "\"nome\": \"Verbano-Cusio-Ossola \",\n",
    "\"sigla\": \"VB\"\n",
    "}, {\n",
    "\"nome\": \"Vercelli \",\n",
    "\"sigla\": \"VC\"\n",
    "}],\n",
    "\"Marche\": [{\n",
    "\"nome\": \"Ancona \",\n",
    "\"sigla\": \"AN\"\n",
    "}, {\n",
    "\"nome\": \"Ascoli Piceno \",\n",
    "\"sigla\": \"AP\"\n",
    "}, {\n",
    "\"nome\": \"Fermo \",\n",
    "\"sigla\": \"FM\"\n",
    "}, {\n",
    "\"nome\": \"Macerata \",\n",
    "\"sigla\": \"MC\"\n",
    "}, {\n",
    "\"nome\": \"Pesaro e Urbino \",\n",
    "\"sigla\": \"PU\"\n",
    "}],\n",
    "\"Valle d'Aosta\": [{\n",
    "\"nome\": \"Aosta \",\n",
    "\"sigla\": \"AO\"\n",
    "}],\n",
    "\"Toscana\": [{\n",
    "\"nome\": \"Arezzo \",\n",
    "\"sigla\": \"AR\"\n",
    "}, {\n",
    "\"nome\": \"Firenze \",\n",
    "\"sigla\": \"FI\"\n",
    "}, {\n",
    "\"nome\": \"Grosseto \",\n",
    "\"sigla\": \"GR\"\n",
    "}, {\n",
    "\"nome\": \"Livorno \",\n",
    "\"sigla\": \"LI\"\n",
    "}, {\n",
    "\"nome\": \"Lucca \",\n",
    "\"sigla\": \"LU\"\n",
    "}, {\n",
    "\"nome\": \"Massa-Carrara \",\n",
    "\"sigla\": \"MS\"\n",
    "}, {\n",
    "\"nome\": \"Pisa \",\n",
    "\"sigla\": \"PI\"\n",
    "}, {\n",
    "\"nome\": \"Pistoia \",\n",
    "\"sigla\": \"PT\"\n",
    "}, {\n",
    "\"nome\": \"Prato \",\n",
    "\"sigla\": \"PO\"\n",
    "}, {\n",
    "\"nome\": \"Siena \",\n",
    "\"sigla\": \"SI\"\n",
    "}],\n",
    "\"Campania\": [{\n",
    "\"nome\": \"Avellino \",\n",
    "\"sigla\": \"AV\"\n",
    "}, {\n",
    "\"nome\": \"Benevento \",\n",
    "\"sigla\": \"BN\"\n",
    "}, {\n",
    "\"nome\": \"Caserta \",\n",
    "\"sigla\": \"CE\"\n",
    "}, {\n",
    "\"nome\": \"Napoli \",\n",
    "\"sigla\": \"NA\"\n",
    "}, {\n",
    "\"nome\": \"Salerno \",\n",
    "\"sigla\": \"SA\"\n",
    "}],\n",
    "\"Puglia\": [{\n",
    "\"nome\": \"Bari \",\n",
    "\"sigla\": \"BA\"\n",
    "}, {\n",
    "\"nome\": \"Brindisi \",\n",
    "\"sigla\": \"BR\"\n",
    "}, {\n",
    "\"nome\": \"Foggia \",\n",
    "\"sigla\": \"FG\"\n",
    "}, {\n",
    "\"nome\": \"Barletta-Andria-Trani \",\n",
    "\"sigla\": \"BT\"\n",
    "}, {\n",
    "\"nome\": \"Lecce \",\n",
    "\"sigla\": \"LE\"\n",
    "}, {\n",
    "\"nome\": \"Taranto \",\n",
    "\"sigla\": \"TA\"\n",
    "}],\n",
    "\"Veneto\": [{\n",
    "\"nome\": \"Belluno \",\n",
    "\"sigla\": \"BL\"\n",
    "}, {\n",
    "\"nome\": \"Padova \",\n",
    "\"sigla\": \"PD\"\n",
    "}, {\n",
    "\"nome\": \"Rovigo \",\n",
    "\"sigla\": \"RO\"\n",
    "}, {\n",
    "\"nome\": \"Treviso \",\n",
    "\"sigla\": \"TV\"\n",
    "}, {\n",
    "\"nome\": \"Venezia \",\n",
    "\"sigla\": \"VE\"\n",
    "}, {\n",
    "\"nome\": \"Verona \",\n",
    "\"sigla\": \"VR\"\n",
    "}, {\n",
    "\"nome\": \"Vicenza \",\n",
    "\"sigla\": \"VI\"\n",
    "}],\n",
    "\"Lombardia\": [{\n",
    "\"nome\": \"Bergamo \",\n",
    "\"sigla\": \"BG\"\n",
    "}, {\n",
    "\"nome\": \"Brescia \",\n",
    "\"sigla\": \"BS\"\n",
    "}, {\n",
    "\"nome\": \"Monza della Brianza \",\n",
    "\"sigla\": \"MB\"\n",
    "}, {\n",
    "\"nome\": \"Como \",\n",
    "\"sigla\": \"CO\"\n",
    "}, {\n",
    "\"nome\": \"Cremona \",\n",
    "\"sigla\": \"CR\"\n",
    "}, {\n",
    "\"nome\": \"Lecco \",\n",
    "\"sigla\": \"LC\"\n",
    "}, {\n",
    "\"nome\": \"Lodi \",\n",
    "\"sigla\": \"LO\"\n",
    "}, {\n",
    "\"nome\": \"Mantova \",\n",
    "\"sigla\": \"MN\"\n",
    "}, {\n",
    "\"nome\": \"Milano \",\n",
    "\"sigla\": \"MI\"\n",
    "}, {\n",
    "\"nome\": \"Pavia \",\n",
    "\"sigla\": \"PV\"\n",
    "}, {\n",
    "\"nome\": \"Sondrio \",\n",
    "\"sigla\": \"SO\"\n",
    "}, {\n",
    "\"nome\": \"Varese \",\n",
    "\"sigla\": \"VA\"\n",
    "}],\n",
    "\"Emilia-Romagna\": [{\n",
    "\"nome\": \"Bologna \",\n",
    "\"sigla\": \"BO\"\n",
    "}, {\n",
    "\"nome\": \"Ferrara \",\n",
    "\"sigla\": \"FE\"\n",
    "}, {\n",
    "\"nome\": \"Forl\\u002d0043esena \",\n",
    "\"sigla\": \"FC\"\n",
    "}, {\n",
    "\"nome\": \"Modena \",\n",
    "\"sigla\": \"MO\"\n",
    "}, {\n",
    "\"nome\": \"Parma \",\n",
    "\"sigla\": \"PR\"\n",
    "}, {\n",
    "\"nome\": \"Piacenza \",\n",
    "\"sigla\": \"PC\"\n",
    "}, {\n",
    "\"nome\": \"Ravenna \",\n",
    "\"sigla\": \"RA\"\n",
    "}, {\n",
    "\"nome\": \"Reggio Emilia \",\n",
    "\"sigla\": \"RE\"\n",
    "}, {\n",
    "\"nome\": \"Rimini \",\n",
    "\"sigla\": \"RN\"\n",
    "}],\n",
    "\"Trentino-Alto Adige\": [{\n",
    "\"nome\": \"Bolzano \",\n",
    "\"sigla\": \"BZ\"\n",
    "}, {\n",
    "\"nome\": \"Trento \",\n",
    "\"sigla\": \"TN\"\n",
    "}],\n",
    "\"Sardegna\": [{\n",
    "\"nome\": \"Cagliari \",\n",
    "\"sigla\": \"CA\"\n",
    "}, {\n",
    "\"nome\": \"Carbonia-Iglesias \",\n",
    "\"sigla\": \"CI\"\n",
    "}, {\n",
    "\"nome\": \"Nuoro \",\n",
    "\"sigla\": \"NU\"\n",
    "}, {\n",
    "\"nome\": \"Sud Sardegna \",\n",
    "\"sigla\": \"SU\"\n",
    "}, {\n",
    "\"nome\": \"Olbia-Tempio \",\n",
    "\"sigla\": \"OT\"\n",
    "}, {\n",
    "\"nome\": \"Oristano \",\n",
    "\"sigla\": \"OR\"\n",
    "}, {\n",
    "\"nome\": \"Medio Campidano \",\n",
    "\"sigla\": \"VS\"\n",
    "}, {\n",
    "\"nome\": \"Sassari \",\n",
    "\"sigla\": \"SS\"\n",
    "}, {\n",
    "\"nome\": \"Ogliastra \",\n",
    "\"sigla\": \"OG\"\n",
    "}],\n",
    "\"Molise\": [{\n",
    "\"nome\": \"Campobasso \",\n",
    "\"sigla\": \"CB\"\n",
    "}, {\n",
    "\"nome\": \"Isernia \",\n",
    "\"sigla\": \"IS\"\n",
    "}],\n",
    "\"Calabria\": [{\n",
    "\"nome\": \"Catanzaro \",\n",
    "\"sigla\": \"CZ\"\n",
    "}, {\n",
    "\"nome\": \"Cosenza \",\n",
    "\"sigla\": \"CS\"\n",
    "}, {\n",
    "\"nome\": \"Crotone \",\n",
    "\"sigla\": \"KR\"\n",
    "}, {\n",
    "\"nome\": \"Reggio Calabria \",\n",
    "\"sigla\": \"RC\"\n",
    "}, {\n",
    "\"nome\": \"Vibo Valentia \",\n",
    "\"sigla\": \"VV\"\n",
    "}],\n",
    "\"Abruzzo\": [{\n",
    "\"nome\": \"Chieti \",\n",
    "\"sigla\": \"CH\"\n",
    "}, {\n",
    "\"nome\": \"L'Aquila \",\n",
    "\"sigla\": \"AQ\"\n",
    "}, {\n",
    "\"nome\": \"Pescara \",\n",
    "\"sigla\": \"PE\"\n",
    "}, {\n",
    "\"nome\": \"Teramo \",\n",
    "\"sigla\": \"TE\"\n",
    "}],\n",
    "\"Lazio\": [{\n",
    "\"nome\": \"Frosinone \",\n",
    "\"sigla\": \"FR\"\n",
    "}, {\n",
    "\"nome\": \"Latina \",\n",
    "\"sigla\": \"LT\"\n",
    "}, {\n",
    "\"nome\": \"Rieti \",\n",
    "\"sigla\": \"RI\"\n",
    "}, {\n",
    "\"nome\": \"Roma \",\n",
    "\"sigla\": \"RM\"\n",
    "}, {\n",
    "\"nome\": \"Viterbo \",\n",
    "\"sigla\": \"VT\"\n",
    "}],\n",
    "\"Liguria\": [{\n",
    "\"nome\": \"Genova \",\n",
    "\"sigla\": \"GE\"\n",
    "}, {\n",
    "\"nome\": \"Imperia \",\n",
    "\"sigla\": \"IM\"\n",
    "}, {\n",
    "\"nome\": \"La Spezia \",\n",
    "\"sigla\": \"SP\"\n",
    "}, {\n",
    "\"nome\": \"Savona \",\n",
    "\"sigla\": \"SV\"\n",
    "}],\n",
    "\"Friuli-Venezia Giulia\": [{\n",
    "\"nome\": \"Gorizia \",\n",
    "\"sigla\": \"GO\"\n",
    "}, {\n",
    "\"nome\": \"Pordenone \",\n",
    "\"sigla\": \"PN\"\n",
    "}, {\n",
    "\"nome\": \"Trieste \",\n",
    "\"sigla\": \"TS\"\n",
    "}, {\n",
    "\"nome\": \"Udine \",\n",
    "\"sigla\": \"UD\"\n",
    "}],\n",
    "\"Basilicata\": [{\n",
    "\"nome\": \"Matera \",\n",
    "\"sigla\": \"MT\"\n",
    "}, {\n",
    "\"nome\": \"Potenza \",\n",
    "\"sigla\": \"PZ\"\n",
    "}],\n",
    "\"Umbria\": [{\n",
    "\"nome\": \"Perugia \",\n",
    "\"sigla\": \"PG\"\n",
    "}, {\n",
    "\"nome\": \"Terni \",\n",
    "\"sigla\": \"TR\"\n",
    "}]\n",
    "}"
   ]
  },
  {
   "cell_type": "markdown",
   "metadata": {
    "colab": {
     "base_uri": "https://localhost:8080/",
     "height": 35
    },
    "colab_type": "code",
    "id": "h-0oY8XQ1PqW",
    "outputId": "8c5458f5-c9d6-47de-e466-0ae46b965bf0"
   },
   "source": [
    "### READS FILE FROM dati.tsv\n",
    "Theese are the datas from Univerity: 1992 students"
   ]
  },
  {
   "cell_type": "code",
   "execution_count": 286,
   "metadata": {
    "colab": {},
    "colab_type": "code",
    "id": "xjryHpEq1iha"
   },
   "outputs": [
    {
     "name": "stdout",
     "output_type": "stream",
     "text": [
      "Processing row 18935\n",
      "header contains 18 columns\n",
      "['COD_FIS', 'GENERE', 'AA_IMM1', 'TIPO_TITOLO_SUP_DESC', 'PROVINCIA_SCUOLA_SIGLA', 'VOTO_MATURITA', 'VOTO_MIN', 'VOTO_MAX', 'STATO_STU_DESC', 'MOTIVO_STATO_STU_DESC', 'CDS_PROV', 'AA_ARRIVO_FISL', 'CDS_ARR', 'AA_PARTENZA_FISL', 'CDS_DESC_L', 'VOTO_FINALE', 'LODE_FLG', 'AA_ID'] MEDIA_VOTO LUNGHEZZA_CARRIERA VOTO_MATURITA_UNICO REGIONE_SCUOLA ZONA_ITALIA\n"
     ]
    }
   ],
   "source": [
    "#define the filename, in this case is in the hw-data/hw01-data directory\n",
    "data_filename = \"dati.tsv\"\n",
    "data_file = open(os.path.join(data_dir,data_filename),\"r\")  #r means reading mode\n",
    "\n",
    "#the readlines function gives a list with a line each\n",
    "lines = data_file.readlines()\n",
    "#we can create an output list with only the lines that we want\n",
    "out_list=[]\n",
    "#we can create an output list with only the lines that we want\n",
    "out_list=[]\n",
    "for li in range(len(lines)):\n",
    "    line = lines[li].strip(\"\\n\")\n",
    "    out_list.append(line)\n",
    "header=\"COD_FIS,GENERE,PROV_RES_ATTUALE,COM_RES_ATTUALE,RES_PREC_SIGLA,RES_PREC_DES,DIPARTIMENTO,TIPO_CORSO_COD,TIPO_CORSO_DES,CDS_ID,CDS_COD,AA_IMM1,TIPO_TITOLO_SUP_DESC,TIPO_TITOLO_STRA_DESC,SCUOLA_DESC,COMUNE_SCUOLA_DESC,PROVINCIA_SCUOLA_SIGLA,VOTO_MATURITA,VOTO_MIN,VOTO_MAX,STA_STU_COD,STATO_STU_DESC,MOT_STASTU_COD,MOTIVO_STATO_STU_DESC,CDS_PROV,AA_ARRIVO_FISL,CDS_ARR,AA_PARTENZA_FISL,CDS_COD_L,CDS_DESC_L,VOTO_FINALE,LODE_FLG,ANNO_CT,DATA_CT,AA_ID,COD,DES,VOTO,LODE_FLG_1,CREDITI,DATA_SUP,AA_SUP_ID,RIC_ID,STA_SCE_COD,PRESIDENTE_COMMISSIONE\"\n",
    "column_names = header.split(\",\")\n",
    "\n",
    "#create and init a dictionary of lists..\n",
    "data_dict={}\n",
    "for ci in range(len(column_names)):\n",
    "    data_dict[column_names[ci]]=[]\n",
    "    \n",
    "#we start from 1 since we want to skip the first line containing the headers.\n",
    "for ri in range(0,len(out_list)-1):\n",
    "    if ri >=13496: data_line = out_list[ri+1].split(\"\\t\")\n",
    "    else: data_line = out_list[ri].split(\"\\t\")\n",
    "    if(ri==len(out_list)-2): print(\"Processing row %d\" % ri)\n",
    "    for ci in range(len(column_names)):\n",
    "        data_dict[column_names[ci]].append(data_line[ci])\n",
    "        \n",
    "header_stud =\"COD_FIS,GENERE,AA_IMM1,TIPO_TITOLO_SUP_DESC,PROVINCIA_SCUOLA_SIGLA,VOTO_MATURITA,VOTO_MIN,VOTO_MAX,STATO_STU_DESC,MOTIVO_STATO_STU_DESC,CDS_PROV,AA_ARRIVO_FISL,CDS_ARR,AA_PARTENZA_FISL,CDS_DESC_L,VOTO_FINALE,LODE_FLG,AA_ID\"\n",
    "colonne = header_stud.split(\",\")\n",
    "studente={}\n",
    "studente['MEDIA_VOTO']=[]\n",
    "studente['LUNGHEZZA_CARRIERA']=[]\n",
    "studente['VOTO_MATURITA_UNICO']=[]\n",
    "studente['REGIONE_SCUOLA']=[]\n",
    "studente['ZONA_ITALIA']=[]\n",
    "for ci in range(len(colonne)):\n",
    "    studente[colonne[ci]]=[]\n",
    "print(\"header contains %d columns\" % len(colonne))\n",
    "print(colonne,'MEDIA_VOTO','LUNGHEZZA_CARRIERA','VOTO_MATURITA_UNICO','REGIONE_SCUOLA','ZONA_ITALIA')    \n",
    "\n",
    "count=0\n",
    "vuoti=0\n",
    "#inizializza la sintesi dei dati imponendo che il numero della riga sia minore del numero totale di righe\n",
    "while (count < 18936):\n",
    "#Esiste un voto associato alla riga? Se sì: proseguo con l'analisi. Se no: passo alla riga successiva\n",
    "    if(data_dict['VOTO'][count]):\n",
    "#associo al valore 'temp' il rodotto del voto associato alla riga con i crediti associati alla riga\n",
    "        crediti=int(data_dict['CREDITI'][count])\n",
    "        temp=int(data_dict['VOTO'][count])*crediti\n",
    "#inizializzo il contatore di ripetizioni per codice fiscale\n",
    "        ro=1\n",
    "#finchè il codice fiscale della riga è uguale a quello delle successive sommo i valori di 'temp' per ciascuna riga successiva ed i valori dei crediti totali\n",
    "        while (data_dict[\"COD_FIS\"][count]==data_dict[\"COD_FIS\"][count+ro]):\n",
    "#Esegue solo se esiste un valore di voto associato a ciascuna delle righe successive\n",
    "            if(data_dict['VOTO'][count+ro]):\n",
    "                temp=temp+(int(data_dict['VOTO'][count+ro])*int(data_dict['CREDITI'][count+ro]))\n",
    "                crediti=crediti+int(data_dict['CREDITI'][count+ro])\n",
    "            ro=ro+1\n",
    "#Associo i valori del nuovo dizionario studente\n",
    "        for ci in range(len(colonne)):\n",
    "            studente[colonne[ci]].append(data_dict[colonne[ci]][count])\n",
    "        studente['MEDIA_VOTO'].append(int(temp/crediti))\n",
    "        \n",
    "        if data_dict['PROVINCIA_SCUOLA_SIGLA'][count]:\n",
    "            for rg in range(len(regioniEProvincie['regioni'])):\n",
    "                for pr in range(len(regioniEProvincie[regioniEProvincie['regioni'][rg]])):\n",
    "                    if (data_dict['PROVINCIA_SCUOLA_SIGLA'][count]==regioniEProvincie[regioniEProvincie['regioni'][rg]][pr]['sigla']):\n",
    "                        studente['REGIONE_SCUOLA'].append(regioniEProvincie['regioni'][rg])\n",
    "                        if (regioniEProvincie['regioni'][rg]=='Piemonte' or regioniEProvincie['regioni'][rg]== \"Valle d'Aosta\" or regioniEProvincie['regioni'][rg]=='Liguria' or regioniEProvincie['regioni'][rg]=='Lombardia' or regioniEProvincie['regioni'][rg]=='Trentino-Alto Adige' or regioniEProvincie['regioni'][rg]=='Veneto' or regioniEProvincie['regioni'][rg]=='Friuli-Venezia Giulia' or regioniEProvincie['regioni'][rg]=='Emilia-Romagna'): studente['ZONA_ITALIA'].append('NORD')\n",
    "                        if (regioniEProvincie['regioni'][rg]=='Toscana' or regioniEProvincie['regioni'][rg]== \"Umbria\" or regioniEProvincie['regioni'][rg]=='Marche' or regioniEProvincie['regioni'][rg]=='Lazio'): studente['ZONA_ITALIA'].append('CENTRO')\n",
    "                        if (regioniEProvincie['regioni'][rg]== \"Abruzzo\" or regioniEProvincie['regioni'][rg]=='Molise' or regioniEProvincie['regioni'][rg]=='Campania' or regioniEProvincie['regioni'][rg]=='Puglia' or regioniEProvincie['regioni'][rg]=='Basilicata' or regioniEProvincie['regioni'][rg]=='Calabria' or regioniEProvincie['regioni'][rg]=='Sicilia' or regioniEProvincie['regioni'][rg]=='Sardegna'): studente['ZONA_ITALIA'].append('SUD/ISOLE')\n",
    "        else:\n",
    "            studente['REGIONE_SCUOLA'].append('NOT DEFINED')\n",
    "            studente['ZONA_ITALIA'].append('NOT DEFINED')\n",
    "        \n",
    "        if data_dict['VOTO_MAX'][count]:\n",
    "            if (int(data_dict['VOTO_MAX'][count])!=0):\n",
    "                studente['VOTO_MATURITA_UNICO'].append(int(float(data_dict['VOTO_MATURITA'][count])/int(data_dict['VOTO_MAX'][count])*100))\n",
    "            else: studente['VOTO_MATURITA_UNICO'].append('NOT DEFINED')\n",
    "        else: studente['VOTO_MATURITA_UNICO'].append('NOT DEFINED')\n",
    "        \n",
    "        if data_dict['AA_ID'][count]:\n",
    "            studente['LUNGHEZZA_CARRIERA'].append(int(data_dict['AA_ID'][count])-int(data_dict['AA_IMM1'][count])+1)\n",
    "        else: studente['LUNGHEZZA_CARRIERA'].append('NOT DEFINED')\n",
    "\n",
    "#stabilisco la nuova riga di partenza come quella per la quale non è più vero che si ripete lo stesso codice fiscale\n",
    "        count=count+ro\n",
    "    else:\n",
    "#prima di passare alla riga successiva aggiungo una unità al numero di studenti che non hanno voti associati, se non, al massimo, una ideoneità linguistica\n",
    "        if(count < 18935):\n",
    "#considero i casi di idoneità linguistica ed evito che gli studenti vengano contati due volte\n",
    "            if(data_dict[\"COD_FIS\"][count]!=data_dict[\"COD_FIS\"][count+1]): \n",
    "                vuoti=vuoti+1\n",
    "                for ci in range(len(colonne)):\n",
    "                    studente[colonne[ci]].append(data_dict[colonne[ci]][count])\n",
    "                studente['MEDIA_VOTO'].append(int(temp/crediti))\n",
    "                \n",
    "                if data_dict['PROVINCIA_SCUOLA_SIGLA'][count]:\n",
    "                            for rg in range(len(regioniEProvincie['regioni'])):\n",
    "                                for pr in range(len(regioniEProvincie[regioniEProvincie['regioni'][rg]])):\n",
    "                                    if (data_dict['PROVINCIA_SCUOLA_SIGLA'][count]==regioniEProvincie[regioniEProvincie['regioni'][rg]][pr]['sigla']):\n",
    "                                        studente['REGIONE_SCUOLA'].append(regioniEProvincie['regioni'][rg])\n",
    "                                        if (regioniEProvincie['regioni'][rg]=='Piemonte' or regioniEProvincie['regioni'][rg]== \"Valle d'Aosta\" or regioniEProvincie['regioni'][rg]=='Liguria' or regioniEProvincie['regioni'][rg]=='Lombardia' or regioniEProvincie['regioni'][rg]=='Trentino-Alto Adige' or regioniEProvincie['regioni'][rg]=='Veneto' or regioniEProvincie['regioni'][rg]=='Friuli-Venezia Giulia' or regioniEProvincie['regioni'][rg]=='Emilia-Romagna'): studente['ZONA_ITALIA'].append('NORD')\n",
    "                                        if (regioniEProvincie['regioni'][rg]=='Toscana' or regioniEProvincie['regioni'][rg]== \"Umbria\" or regioniEProvincie['regioni'][rg]=='Marche' or regioniEProvincie['regioni'][rg]=='Lazio'): studente['ZONA_ITALIA'].append('CENTRO')\n",
    "                                        if (regioniEProvincie['regioni'][rg]== \"Abruzzo\" or regioniEProvincie['regioni'][rg]=='Molise' or regioniEProvincie['regioni'][rg]=='Campania' or regioniEProvincie['regioni'][rg]=='Puglia' or regioniEProvincie['regioni'][rg]=='Basilicata' or regioniEProvincie['regioni'][rg]=='Calabria' or regioniEProvincie['regioni'][rg]=='Sicilia' or regioniEProvincie['regioni'][rg]=='Sardegna'): studente['ZONA_ITALIA'].append('SUD/ISOLE')\n",
    "                else:\n",
    "                    studente['REGIONE_SCUOLA'].append('NOT DEFINED')\n",
    "                    studente['ZONA_ITALIA'].append('NOT DEFINED')\n",
    "                    \n",
    "\n",
    "                if data_dict['VOTO_MAX'][count]:\n",
    "                    if (int(data_dict['VOTO_MAX'][count])!=0):\n",
    "                        studente['VOTO_MATURITA_UNICO'].append(int(float(data_dict['VOTO_MATURITA'][count])/int(data_dict['VOTO_MAX'][count])*100))\n",
    "                    else: studente['VOTO_MATURITA_UNICO'].append('NOT DEFINED')\n",
    "                else: studente['VOTO_MATURITA_UNICO'].append('NOT DEFINED')\n",
    "\n",
    "                if data_dict['AA_ID'][count]:\n",
    "                    studente['LUNGHEZZA_CARRIERA'].append(int(data_dict['AA_ID'][count])-int(data_dict['AA_IMM1'][count])+1)\n",
    "                else: studente['LUNGHEZZA_CARRIERA'].append('NOT DEFINED')\n",
    "                \n",
    "        count=count+1"
   ]
  },
  {
   "cell_type": "code",
   "execution_count": 326,
   "metadata": {},
   "outputs": [
    {
     "name": "stdout",
     "output_type": "stream",
     "text": [
      "header contains 8 columns\n",
      "['Codice fiscale', 'Tentativo', 'Data', 'Sede', 'Punteggio', 'Risposte corrette', 'Risposte errate', 'Risposte Nulle']\n",
      "Processing row 455\n"
     ]
    }
   ],
   "source": [
    "#define the filename, in this case is in the hw-data/hw01-data directory\n",
    "data_filename = \"dati_ordinati_ridotti_CISIA_AI04_Scienze.txt\"\n",
    "data_file = open(os.path.join(data_dir,data_filename),\"r\")  #r means reading mode\n",
    "\n",
    "#the readlines function gives a list with a line each\n",
    "lines = data_file.readlines()\n",
    "\n",
    "#we can create an output list with only the lines that we want\n",
    "out_list=[]\n",
    "\n",
    "for li in range(len(lines)):\n",
    "    line = lines[li].strip(\"\\n\")\n",
    "    if (len(line)>0):\n",
    "        if (line[0]!=\"#\"):\n",
    "            #print(line)\n",
    "            out_list.append(line)\n",
    "            \n",
    "header = out_list[0]\n",
    "\n",
    "# We can ue the split function to split a long string. \n",
    "# Here we use the comma as separator, but one can use also other characters\n",
    "column_names = header.split(\"; \")\n",
    "print(\"header contains %d columns\" % len(column_names))\n",
    "print(column_names)\n",
    "\n",
    "studente_cisia={}\n",
    "for ci in range(len(column_names)):\n",
    "    studente_cisia[column_names[ci]]=[]\n",
    "\n",
    "\n",
    "#we start from 1 since we want to skip the first line containing the headers.\n",
    "for ri in range(1,len(out_list)):\n",
    "    data_line = out_list[ri].split(\"; \")\n",
    "    if(ri==len(out_list)-1): print(\"Processing row %d\" % ri)\n",
    "    for ci in range(len(column_names)):\n",
    "        studente_cisia[column_names[ci]].append(data_line[ci])\n",
    "        \n",
    "        \n",
    "studente_cisia_singolo={}\n",
    "for ci in range(len(column_names)):\n",
    "    studente_cisia_singolo[column_names[ci]]=[]\n",
    "\n",
    "        \n",
    "count=0\n",
    "#inizializza la sintesi dei dati imponendo che il numero della riga sia minore del numero totale di righe\n",
    "while (count < len(studente_cisia['Codice fiscale'])-1):\n",
    "#finchè il codice fiscale della riga è uguale a quello delle successive sommo i valori di 'temp' per ciascuna riga successiva ed i valori dei crediti totali\n",
    "    ro=1\n",
    "    while (studente_cisia['Codice fiscale'][count]==studente_cisia['Codice fiscale'][count+ro]):\n",
    "        ro=ro+1\n",
    "    riga=count+ro-1\n",
    "    for ci in range(len(column_names)):\n",
    "        studente_cisia_singolo[column_names[ci]].append(studente_cisia[column_names[ci]][riga])\n",
    "    #print(column_names[0], '-', studente_cisia[column_names[0]][riga])\n",
    "    #print(column_names[1], '-', studente_cisia[column_names[1]][riga])\n",
    "    #print(ro)\n",
    "    count=count+ro\n",
    "#Esegue solo se esiste un valore di voto associato a ciascuna delle righe successive\n",
    "            "
   ]
  },
  {
   "cell_type": "code",
   "execution_count": 331,
   "metadata": {},
   "outputs": [
    {
     "name": "stdout",
     "output_type": "stream",
     "text": [
      "381\n"
     ]
    }
   ],
   "source": [
    "#conta le corrispondenze tra codici fiscali cisia e dipartimento\n",
    "cor=0\n",
    "for ri in range(len(studente['COD_FIS'])):\n",
    "    for li in range(len(studente_cisia_singolo['Codice fiscale'])):\n",
    "        if(studente_cisia_singolo['Codice fiscale'][li]==studente['COD_FIS'][ri]): \n",
    "            cor=cor+1\n",
    "            #print(studente_cisia['Codice fiscale'][li], li, studente['COD_FIS'][ri], ri)\n",
    "print(cor)"
   ]
  },
  {
   "cell_type": "code",
   "execution_count": 332,
   "metadata": {},
   "outputs": [],
   "source": [
    "#Conta il numero di studenti che si contano più di una volta nei dati cisia (NESSUNO nel nuovo file)\n",
    "for li in range(len(studente_cisia_singolo['Codice fiscale'])):\n",
    "    for fi in range(len(studente_cisia_singolo['Codice fiscale'])):\n",
    "        if fi<li:\n",
    "            if studente_cisia_singolo['Codice fiscale'][li]==studente_cisia_singolo['Codice fiscale'][fi]: print(1)"
   ]
  },
  {
   "cell_type": "code",
   "execution_count": 137,
   "metadata": {},
   "outputs": [
    {
     "name": "stdout",
     "output_type": "stream",
     "text": [
      "64 studenti si presentano due volte alle righe:\n",
      "DHRSPH96H51A326T 22\n",
      "DLZDNL96C19H769Y 33\n",
      "RCCLSN96M12A271K 34\n",
      "STTNDR97H17I155P 52\n",
      "GLLVNT95C51A509E 115\n",
      "FLLDDP96E04B180E 139\n",
      "MNSNRC93H29A669Q 154\n",
      "BGNLRS93M06D205L 218\n",
      "MRNDNN00D57Z604O 254\n",
      "RSSDRN96T61E885X 308\n",
      "GNTFTH98P07D403G 365\n",
      "CNTLPA99L24D612L 372\n",
      "MNTLCR00A28Z611M 375\n",
      "FRSCLD94S17F205Z 391\n",
      "LMAMNL97B10F032A 447\n",
      "BRTDRD95M25G088I 454\n",
      "BRTRSS90H41G912X 519\n",
      "SLDFNC94B26A657G 692\n",
      "RLAGPP96H30E715X 746\n",
      "LRAMTN96T61G628U 753\n",
      "SNNSLV96H68G628R 740\n",
      "SNTKVN94T30C236K 795\n",
      "BRRMNG91L02C236P 670\n",
      "MNDFNC99B07G478X 811\n",
      "CRRGCM97R13G491R 778\n",
      "SBBMTT98H09G478K 849\n",
      "FRNVLR94A31E388D 841\n",
      "TSTFBA93R02Z131M 920\n",
      "NCDLTR89A71B832F 923\n",
      "VNCMCH97P55G628N 948\n",
      "MLNSMN94D16B832S 930\n",
      "MNFMRC95T24F023C 935\n",
      "SLVPPL96S18F935H 1113\n",
      "FNLTRS99A68A475E 1123\n",
      "LMALNZ95B56B157M 1284\n",
      "MLLKVN93C28G491K 1280\n",
      "LNODNL97A28G702K 1290\n",
      "RRGFNC98R02I046H 1340\n",
      "BNSJPB97P16Z514D 1337\n",
      "GNNLNZ98P07E625F 1315\n",
      "GHLFNC98R13I046W 1318\n",
      "NNLLEI99B13I046B 1363\n",
      "DMTRRT93E02G793Y 1211\n",
      "BRRCPI99D03G702G 1349\n",
      "VNDDVD95B17Z149K 1417\n",
      "GNNLSN99H17G713Y 1468\n",
      "ZFFDNC89P05C619T 1495\n",
      "PPSGPP98M12G791J 1555\n",
      "MGLGNN96P13I281W 1644\n",
      "PGLNCL96S06H703X 1649\n",
      "TMLBNR98R09I726M 1682\n",
      "MDAGTR91A29I449R 1734\n",
      "NTGSMN93H24B832B 1720\n",
      "CSTVEA97S46E463W 1753\n",
      "BDNNDR99H18D969W 1780\n",
      "BTTRRT97R16I452A 1810\n",
      "BLDNDR98E06I452F 1813\n",
      "RSSLSN99H09I452N 1822\n",
      "DLLFRC98B10C136K 1856\n",
      "SRDRRT92R04Z129M 1885\n",
      "DRSRNI98M69G148C 1912\n",
      "GLLNDR92M12G284M 1923\n",
      "PCLMTT98D04A040B 1956\n",
      "STTFNC88M17F537R 1971\n",
      "\n",
      " \n",
      " 6 studenti si presentano tre volte alle righe:\n",
      "BRZCRN81E52B774G 253\n",
      "BRZCRN81E52B774G 253\n",
      "BRZCRN81E52B774G 255\n",
      "RMZLGU59L23C310F 448\n",
      "RMZLGU59L23C310F 448\n",
      "RMZLGU59L23C310F 453\n",
      "LRATMS90T05E625D 528\n",
      "LRATMS90T05E625D 528\n",
      "LRATMS90T05E625D 584\n",
      "RMNSFN90B25F258Y 1570\n",
      "RMNSFN90B25F258Y 1570\n",
      "RMNSFN90B25F258Y 1580\n",
      "CRBGND87R65I449Q 1713\n",
      "CRBGND87R65I449Q 1713\n",
      "CRBGND87R65I449Q 1743\n",
      "RRTCLS93P17Z611T 1732\n",
      "RRTCLS93P17Z611T 1732\n",
      "RRTCLS93P17Z611T 1783\n",
      "\n",
      " \n",
      " 2 studenti si presentano tre volte alle righe:\n",
      "CVLCSR97B13G843D 1293\n",
      "CVLCSR97B13G843D 1293\n",
      "CVLCSR97B13G843D 1342\n",
      "CVLCSR97B13G843D 1293\n",
      "CVLCSR97B13G843D 1342\n",
      "CVLCSR97B13G843D 1379\n",
      "RBDLCU93P05E463O 1718\n",
      "RBDLCU93P05E463O 1718\n",
      "RBDLCU93P05E463O 1763\n",
      "RBDLCU93P05E463O 1718\n",
      "RBDLCU93P05E463O 1763\n",
      "RBDLCU93P05E463O 1770\n",
      "\n",
      " \n",
      " 1 studenti si presentano tre volte alle righe:\n",
      "NBLMHL92P41F023G 913\n",
      "NBLMHL92P41F023G 913\n",
      "NBLMHL92P41F023G 940\n",
      "NBLMHL92P41F023G 913\n",
      "NBLMHL92P41F023G 940\n",
      "NBLMHL92P41F023G 955\n",
      "NBLMHL92P41F023G 913\n",
      "NBLMHL92P41F023G 940\n",
      "NBLMHL92P41F023G 955\n",
      "NBLMHL92P41F023G 972\n"
     ]
    }
   ],
   "source": [
    "#Conta il numero di studenti che si contano più di una volta nei dati dipartimento, dice quali sono le righe ed il numero di voltein cui compare\n",
    "cont=0\n",
    "codici=[]\n",
    "riga=[]\n",
    "for ri in range(len(studente['COD_FIS'])):\n",
    "    for li in range(len(studente['COD_FIS'])):\n",
    "        if(li<ri):\n",
    "            if(studente['COD_FIS'][li]==studente['COD_FIS'][ri]):\n",
    "                codici.append(studente['COD_FIS'][li])\n",
    "                riga.append(li)\n",
    "                #print(ri,li,studente['COD_FIS'][li])\n",
    "                cont=cont+1\n",
    "            #print(studente_cisia['Codice fiscale'][li], li, studente['COD_FIS'][ri], ri)\n",
    "#print(cont)\n",
    "volte=[]\n",
    "for n in range(len(codici)):\n",
    "       volte.append(codici.count(codici[n]))\n",
    "        \n",
    "due_volte=volte.count(1)\n",
    "tre_volte=int(volte.count(3)/3)\n",
    "quattro_volte=int(volte.count(6)/6)\n",
    "cinque_volte=int(volte.count(10)/10)\n",
    "\n",
    "print(due_volte, 'studenti si presentano due volte alle righe:')\n",
    "for n in range(len(codici)):\n",
    "       if volte[n]==1: print(codici[n],riga[n])\n",
    "            \n",
    "print('\\n \\n',tre_volte, 'studenti si presentano tre volte alle righe:')\n",
    "for n in range(len(codici)):\n",
    "       if volte[n]==3: print(codici[n],riga[n])\n",
    "            \n",
    "print('\\n \\n',quattro_volte, 'studenti si presentano tre volte alle righe:')\n",
    "for n in range(len(codici)):\n",
    "       if volte[n]==6: print(codici[n],riga[n])\n",
    "\n",
    "print('\\n \\n',cinque_volte, 'studenti si presentano tre volte alle righe:')\n",
    "for n in range(len(codici)):\n",
    "       if volte[n]==10: print(codici[n],riga[n])"
   ]
  },
  {
   "cell_type": "code",
   "execution_count": 155,
   "metadata": {},
   "outputs": [
    {
     "name": "stdout",
     "output_type": "stream",
     "text": [
      "riga anomalo:  1975\n",
      "\n",
      " Attivi 801 \n",
      " cessati 1147 \n",
      "sospesi 43 \n",
      " somma 1991 \n",
      " totale atteso 1992\n"
     ]
    }
   ],
   "source": [
    "#Analisi dello stato degli studenti\n",
    "att=0\n",
    "cess=0\n",
    "sosp=0\n",
    "for ri in range(len(studente['COD_FIS'])):\n",
    "    if(studente['STATO_STU_DESC'][ri]=='Attivo'): att=att+1\n",
    "    if(studente['STATO_STU_DESC'][ri]=='Cessato'): cess=cess+1\n",
    "    if(studente['STATO_STU_DESC'][ri]=='Sospeso'): sosp=sosp+1\n",
    "    if(studente['STATO_STU_DESC'][ri]!='Attivo'):\n",
    "        if(studente['STATO_STU_DESC'][ri]!='Cessato'):\n",
    "            if(studente['STATO_STU_DESC'][ri]!='Sospeso'): print('riga anomalo:',studente['STATO_STU_DESC'][ri],ri)\n",
    "            \n",
    "print('\\n Attivi',att,'\\n cessati',cess,'\\nsospesi',sosp,'\\n somma', att+cess+sosp,'\\n totale atteso',len(studente['COD_FIS']))"
   ]
  },
  {
   "cell_type": "code",
   "execution_count": 83,
   "metadata": {},
   "outputs": [
    {
     "name": "stdout",
     "output_type": "stream",
     "text": [
      "immatricolati= 774 \n",
      " Conseguimento titolo= 689 \n",
      " Rinuncia= 352 \n",
      " Decadenza= 94 \n",
      " Tresferimenti in uscita= 41 \n",
      " altro= 42 \n",
      " somma 1992 \n",
      " dovrebbero essere 1992\n"
     ]
    }
   ],
   "source": [
    "imm=0\n",
    "cons=0\n",
    "rin=0\n",
    "tr_usc=0\n",
    "dec=0\n",
    "altro=0\n",
    "for ri in range(len(studente['COD_FIS'])):\n",
    "    if(studente['MOTIVO_STATO_STU_DESC'][ri]=='Immatricolazione'): imm=imm+1\n",
    "    if(studente['MOTIVO_STATO_STU_DESC'][ri]=='Conseguimento titolo'): cons=cons+1\n",
    "    if(studente['MOTIVO_STATO_STU_DESC'][ri]=='Rinuncia'): rin=rin+1\n",
    "    if(studente['MOTIVO_STATO_STU_DESC'][ri]=='Trasferimento in uscita'): tr_usc=tr_usc+1\n",
    "    if(studente['MOTIVO_STATO_STU_DESC'][ri]=='Decadenza'): dec=dec+1\n",
    "    if(studente['MOTIVO_STATO_STU_DESC'][ri]!='Decadenza'):\n",
    "        if(studente['MOTIVO_STATO_STU_DESC'][ri]!='Trasferimento in uscita'):\n",
    "            if(studente['MOTIVO_STATO_STU_DESC'][ri]!='Immatricolazione'):\n",
    "                if(studente['MOTIVO_STATO_STU_DESC'][ri]!='Rinuncia'):\n",
    "                    if(studente['MOTIVO_STATO_STU_DESC'][ri]!='Conseguimento titolo'): altro=altro+1\n",
    "print('immatricolati=',imm,'\\n Conseguimento titolo=',cons,'\\n Rinuncia=',rin,'\\n Decadenza=',dec,'\\n Tresferimenti in uscita=',tr_usc,'\\n altro=',altro,'\\n somma',imm+cons+rin+tr_usc+dec+altro,'\\n dovrebbero essere',len(studente['COD_FIS']))"
   ]
  },
  {
   "cell_type": "code",
   "execution_count": 115,
   "metadata": {
    "collapsed": true,
    "jupyter": {
     "outputs_hidden": true
    }
   },
   "outputs": [
    {
     "name": "stdout",
     "output_type": "stream",
     "text": [
      "Trasferimento in uscita 27\n",
      "Trasferimento in uscita 62\n",
      "Trasferimento in uscita 76\n",
      "Trasferimento in uscita 78\n",
      "Trasferimento in uscita 80\n",
      "Trasferimento in uscita 176\n",
      "Trasferimento in uscita 203\n",
      "Trasferimento in uscita 275\n",
      "Trasferimento in uscita 277\n",
      "Servizio Civile 288\n",
      "Trasferimento in uscita 292\n",
      "Trasferimento in uscita 330\n",
      "Trasferimento in uscita 344\n",
      "Trasferimento in uscita 358\n",
      "Trasferimento in uscita 374\n",
      "Trasferimento in uscita 427\n",
      "Trasferimento in uscita 476\n",
      "Trasferimento in uscita 487\n",
      "Trasferimento in uscita 491\n",
      "Trasferimento in uscita 497\n",
      "Trasferimento in uscita 601\n",
      "Trasferimento in uscita 720\n",
      "Trasferimento in uscita 843\n",
      "Trasferimento in uscita 860\n",
      "Trasferimento in uscita 863\n",
      "Trasferimento in uscita 874\n",
      "Trasferimento in uscita 882\n",
      "Trasferimento in uscita 889\n",
      "Trasferimento in uscita 903\n",
      "Trasferimento in uscita 1052\n",
      "Trasferimento in uscita 1070\n",
      "Trasferimento in uscita 1225\n",
      "Trasferimento in uscita 1239\n",
      "Gravi motivi familiari 1356\n",
      "Trasferimento in uscita 1430\n",
      "Trasferimento in uscita 1431\n",
      "Trasferimento in uscita 1475\n",
      "Trasferimento in uscita 1498\n",
      "Trasferimento in uscita 1522\n",
      "Trasferimento in uscita 1597\n",
      "Trasferimento in uscita 1884\n",
      "Trasferimento in uscita 1896\n",
      "Trasferimento in uscita 1944\n"
     ]
    }
   ],
   "source": [
    "#Scrive i motivi per cui lo studente è Attivo, Cessato o Sospeso e la riga associata allo studente\n",
    "a='Attivo'\n",
    "c='Cessato'\n",
    "s='Sospeso'\n",
    "analizzo_gli=s\n",
    "\n",
    "for ri in range(len(studente['COD_FIS'])):\n",
    "    if(studente['STATO_STU_DESC'][ri]==analizzo_gli): print(studente['MOTIVO_STATO_STU_DESC'][ri], ri)\n",
    "        #if(studente['MOTIVO_STATO_STU_DESC'][ri]=='Conseguimento titolo'):"
   ]
  },
  {
   "cell_type": "code",
   "execution_count": 264,
   "metadata": {},
   "outputs": [
    {
     "name": "stdout",
     "output_type": "stream",
     "text": [
      "COD_FIS - VNKNKT95C31Z154C\n",
      "GENERE - M\n",
      "AA_IMM1 - 2014\n",
      "TIPO_TITOLO_SUP_DESC - \n",
      "PROVINCIA_SCUOLA_SIGLA - \n",
      "VOTO_MATURITA - 5\n",
      "VOTO_MIN - 2\n",
      "VOTO_MAX - 5\n",
      "STATO_STU_DESC - Cessato\n",
      "MOTIVO_STATO_STU_DESC - Decadenza\n",
      "CDS_PROV - \n",
      "AA_ARRIVO_FISL - \n",
      "CDS_ARR - \n",
      "AA_PARTENZA_FISL - \n",
      "CDS_DESC_L - \n",
      "VOTO_FINALE - \n",
      "LODE_FLG - \n",
      "AA_ID - \n"
     ]
    }
   ],
   "source": [
    "#lettore di riga\n",
    "riga=332\n",
    "for ci in range(len(colonne)):\n",
    "    print(colonne[ci], '-', studente[colonne[ci]][riga])"
   ]
  },
  {
   "cell_type": "code",
   "execution_count": 122,
   "metadata": {},
   "outputs": [
    {
     "data": {
      "text/plain": [
       "(array([ 14.,  28.,  45.,  94., 166., 286., 138., 122., 123., 131.]),\n",
       " array([18. , 19.2, 20.4, 21.6, 22.8, 24. , 25.2, 26.4, 27.6, 28.8, 30. ]),\n",
       " <BarContainer object of 10 artists>)"
      ]
     },
     "execution_count": 122,
     "metadata": {},
     "output_type": "execute_result"
    },
    {
     "data": {
      "image/png": "[encoded data removed]",
      "text/plain": [
       "<Figure size 432x288 with 1 Axes>"
      ]
     },
     "metadata": {
      "needs_background": "light"
     },
     "output_type": "display_data"
    }
   ],
   "source": [
    "import matplotlib.pyplot as plt\n",
    "campione=[]\n",
    "a='Attivo'\n",
    "c='Cessato'\n",
    "s='Sospeso'\n",
    "stato=s\n",
    "for ri in range(len(studente['COD_FIS'])):\n",
    "    if studente['STATO_STU_DESC'][ri]==stato : campione.append(studente[\"MEDIA_VOTO\"][ri])\n",
    "plt.hist(campione)"
   ]
  },
  {
   "cell_type": "code",
   "execution_count": 136,
   "metadata": {},
   "outputs": [
    {
     "data": {
      "image/png": "[encoded data removed]",
      "text/plain": [
       "<Figure size 720x360 with 1 Axes>"
      ]
     },
     "metadata": {
      "needs_background": "light"
     },
     "output_type": "display_data"
    },
    {
     "data": {
      "image/png": "[encoded data removed]",
      "text/plain": [
       "<Figure size 720x360 with 1 Axes>"
      ]
     },
     "metadata": {
      "needs_background": "light"
     },
     "output_type": "display_data"
    },
    {
     "data": {
      "image/png": "[encoded data removed]",
      "text/plain": [
       "<Figure size 720x360 with 1 Axes>"
      ]
     },
     "metadata": {
      "needs_background": "light"
     },
     "output_type": "display_data"
    },
    {
     "data": {
      "image/png": "[encoded data removed]",
      "text/plain": [
       "<Figure size 720x360 with 1 Axes>"
      ]
     },
     "metadata": {
      "needs_background": "light"
     },
     "output_type": "display_data"
    },
    {
     "data": {
      "image/png": "[encoded data removed]",
      "text/plain": [
       "<Figure size 720x360 with 1 Axes>"
      ]
     },
     "metadata": {
      "needs_background": "light"
     },
     "output_type": "display_data"
    }
   ],
   "source": [
    "import matplotlib.pyplot as plt\n",
    "i='Immatricolazione'\n",
    "c='Conseguimento titolo'\n",
    "r='Rinuncia'\n",
    "d='Decadenza'\n",
    "tu='Trasferimento in uscita'\n",
    "#motivo=i\n",
    "motivi=[i,c,r,d,tu]\n",
    "for motivo in motivi:\n",
    "    campione=[]\n",
    "    for ri in range(len(studente['COD_FIS'])):\n",
    "        if studente['MOTIVO_STATO_STU_DESC'][ri]==motivo : campione.append(studente[\"MEDIA_VOTO\"][ri])\n",
    "    plt.figure(figsize=(10,5))        \n",
    "    plt.hist(campione, density=False, histtype='bar', label=motivo)\n",
    "    #plt.hist(campione)\n",
    "    plt.legend()"
   ]
  },
  {
   "cell_type": "code",
   "execution_count": 213,
   "metadata": {},
   "outputs": [
    {
     "name": "stdout",
     "output_type": "stream",
     "text": [
      "1 417 117 54 30\n"
     ]
    },
    {
     "data": {
      "image/png": "[encoded data removed]",
      "text/plain": [
       "<Figure size 1440x720 with 1 Axes>"
      ]
     },
     "metadata": {
      "needs_background": "light"
     },
     "output_type": "display_data"
    }
   ],
   "source": [
    "import matplotlib.pyplot as plt\n",
    "campione=[]\n",
    "ctwo=0\n",
    "cthree=0\n",
    "cfour=0\n",
    "cfive=0\n",
    "csix=0\n",
    "for ri in range(len(studente['COD_FIS'])):\n",
    "    if studente['LUNGHEZZA_CARRIERA'][ri]!='NOT DEFINED' : campione.append(studente[\"LUNGHEZZA_CARRIERA\"][ri])\n",
    "    if studente['LUNGHEZZA_CARRIERA'][ri]==3 : cthree=cthree+1\n",
    "    if studente['LUNGHEZZA_CARRIERA'][ri]==2 : ctwo=ctwo+1\n",
    "    if studente['LUNGHEZZA_CARRIERA'][ri]==4 : cfour=cfour+1\n",
    "    if studente['LUNGHEZZA_CARRIERA'][ri]==5 : cfive=cfive+1\n",
    "    if studente['LUNGHEZZA_CARRIERA'][ri]==6 : csix=csix+1\n",
    "plt.figure(figsize=(20,10))\n",
    "plt.hist(campione, bins=30, density=False, histtype='bar', label='Lunghezza carriera')\n",
    "#plt.hist(campione)\n",
    "plt.legend()\n",
    "print(ctwo,cthree,cfour,cfive,csix)"
   ]
  },
  {
   "cell_type": "code",
   "execution_count": 291,
   "metadata": {},
   "outputs": [
    {
     "data": {
      "text/plain": [
       "<matplotlib.legend.Legend at 0x7fa19a14bd60>"
      ]
     },
     "execution_count": 291,
     "metadata": {},
     "output_type": "execute_result"
    },
    {
     "data": {
      "image/png": "[encoded data removed]",
      "text/plain": [
       "<Figure size 1440x720 with 1 Axes>"
      ]
     },
     "metadata": {
      "needs_background": "light"
     },
     "output_type": "display_data"
    }
   ],
   "source": [
    "campione=studente['ZONA_ITALIA']\n",
    "plt.figure(figsize=(20,10))\n",
    "plt.hist(campione, bins=8, density=False, histtype='bar', label='Zona')\n",
    "plt.legend()"
   ]
  },
  {
   "cell_type": "code",
   "execution_count": 296,
   "metadata": {},
   "outputs": [
    {
     "data": {
      "text/plain": [
       "<matplotlib.legend.Legend at 0x7fa191bcbc10>"
      ]
     },
     "execution_count": 296,
     "metadata": {},
     "output_type": "execute_result"
    },
    {
     "data": {
      "image/png": "[encoded data removed]",
      "text/plain": [
       "<Figure size 1800x720 with 1 Axes>"
      ]
     },
     "metadata": {
      "needs_background": "light"
     },
     "output_type": "display_data"
    }
   ],
   "source": [
    "campione=studente['REGIONE_SCUOLA']\n",
    "plt.figure(figsize=(25,10))\n",
    "plt.hist(campione, bins=40, density=False, histtype='bar', label='Regione')\n",
    "plt.legend()"
   ]
  },
  {
   "cell_type": "code",
   "execution_count": 307,
   "metadata": {},
   "outputs": [
    {
     "data": {
      "text/plain": [
       "<matplotlib.legend.Legend at 0x7fa14d5b5c70>"
      ]
     },
     "execution_count": 307,
     "metadata": {},
     "output_type": "execute_result"
    },
    {
     "data": {
      "image/png": "[encoded data removed]",
      "text/plain": [
       "<Figure size 1800x720 with 1 Axes>"
      ]
     },
     "metadata": {
      "needs_background": "light"
     },
     "output_type": "display_data"
    }
   ],
   "source": [
    "campione=studente['VOTO_MATURITA_UNICO']\n",
    "plt.figure(figsize=(25,10))\n",
    "plt.hist(campione, bins=200, density=False, histtype='bar', label='VOTO MATURITA')\n",
    "plt.legend()"
   ]
  },
  {
   "cell_type": "code",
   "execution_count": null,
   "metadata": {},
   "outputs": [],
   "source": [
    "campione=studente['VOTO_MATURITA_UNICO']\n",
    "plt.figure(figsize=(25,10))\n",
    "plt.hist(campione, bins=200, density=False, histtype='bar', label='VOTO MATURITA')\n",
    "plt.legend()"
   ]
  }
 ],
 "metadata": {
  "colab": {
   "name": "exercise1-read-csv.ipynb",
   "provenance": []
  },
  "kernelspec": {
   "display_name": "Python 3",
   "language": "python",
   "name": "python3"
  },
  "language_info": {
   "codemirror_mode": {
    "name": "ipython",
    "version": 3
   },
   "file_extension": ".py",
   "mimetype": "text/x-python",
   "name": "python",
   "nbconvert_exporter": "python",
   "pygments_lexer": "ipython3",
   "version": "3.8.5"
  }
 },
 "nbformat": 4,
 "nbformat_minor": 4
}
