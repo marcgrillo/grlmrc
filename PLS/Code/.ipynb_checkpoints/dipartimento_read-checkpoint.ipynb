{
 "cells": [
  {
   "cell_type": "code",
   "execution_count": 1,
   "metadata": {
    "colab": {},
    "colab_type": "code",
    "id": "5M-SnOdC1PqH"
   },
   "outputs": [],
   "source": [
    "import os   #These two are useful modules\n",
    "import sys\n",
    "\n",
    "import numpy as np #Numerical Python"
   ]
  },
  {
   "cell_type": "code",
   "execution_count": 2,
   "metadata": {
    "colab": {
     "base_uri": "https://localhost:8080/",
     "height": 35
    },
    "colab_type": "code",
    "id": "VCBKOr9W1PqQ",
    "outputId": "697a0956-195b-4204-c47d-912aa384e147"
   },
   "outputs": [
    {
     "name": "stdout",
     "output_type": "stream",
     "text": [
      "I am in dir /home/jovyan/work/grlmrc/PLS/Code\n",
      "Main directory is /home/jovyan/work/grlmrc/PLS\n",
      "data dir is /home/jovyan/work/grlmrc/PLS/Data\n"
     ]
    }
   ],
   "source": [
    "# Let's define te directory where you are with the \"get current working directory\" command...\n",
    "work_dir = os.getcwd()\n",
    "print(\"I am in dir %s\" % work_dir)\n",
    "\n",
    "#We can go up by using the path.dirname\n",
    "main_dir =os.path.dirname(work_dir)\n",
    "print(\"Main directory is %s\" % main_dir)\n",
    "\n",
    "#We can then define the data directory using the os.path.join command\n",
    "data_dir = os.path.join(main_dir,\"Data\")\n",
    "print(\"data dir is %s\" % data_dir)\n",
    "\n",
    "#..and we can define some output directory with the results\n",
    "results_dir = os.path.join(main_dir,\"results\")\n",
    "\n",
    "#if the directory does not exist, you can create it...\n",
    "if not os.path.exists(results_dir):\n",
    "    os.mkdir(results_dir)\n",
    "    print(\"Directory %s created !\" % results_dir)"
   ]
  },
  {
   "cell_type": "markdown",
   "metadata": {
    "colab": {
     "base_uri": "https://localhost:8080/",
     "height": 35
    },
    "colab_type": "code",
    "id": "h-0oY8XQ1PqW",
    "outputId": "8c5458f5-c9d6-47de-e466-0ae46b965bf0"
   },
   "source": [
    "### Opening and exploring a file\n",
    "First of all, we will open a file and explore it, by excluding comments, and deciding how many data lines exists"
   ]
  },
  {
   "cell_type": "code",
   "execution_count": 3,
   "metadata": {
    "colab": {},
    "colab_type": "code",
    "id": "xjryHpEq1iha"
   },
   "outputs": [
    {
     "name": "stdout",
     "output_type": "stream",
     "text": [
      "VLPSRN97L58G273O,F,AG,Agrigento,AG,Agrigento,FISICA,L2,Corso di Laurea,10441,FIS-L,2016,Maturità classica,,LICEO CLASSICO EMPEDOCLE,Agrigento,AG,100,60,100,A,Attivo,IMM,Immatricolazione,CORSO ALTRO DIPARTIMENTO,2017,,,,,,,,,,AD_INT,Attività Didattica integrativa 028BB,28,0,3,22-FEB-18,2017,0,S,08128 - FIDECARO FRANCESCO\n",
      "\n",
      "VLPSRN97L58G273O,F,AG,Agrigento,AG,Agrigento,FISICA,L2,Corso di Laurea,10441,FIS-L,2016,Maturità classica,,LICEO CLASSICO EMPEDOCLE,Agrigento,AG,100,60,100,A,Attivo,IMM,Immatricolazione,CORSO ALTRO DIPARTIMENTO,2017,,,,,,,,,,028BB,FISICA 1,28,0,12,28-LUG-17,2016,4,S,\n",
      "\n",
      "VLPSRN97L58G273O,F,AG,Agrigento,AG,Agrigento,FISICA,L2,Corso di Laurea,10441,FIS-L,2016,Maturità classica,,LICEO CLASSICO EMPEDOCLE,Agrigento,AG,100,60,100,A,Attivo,IMM,Immatricolazione,CORSO ALTRO DIPARTIMENTO,2017,,,,,,,,,,029BB,FISICA 2,23,0,15,08-FEB-19,2018,0,S,04876 - CAVASINNI VINCENZO\n",
      "\n"
     ]
    }
   ],
   "source": [
    "#define the filename, in this case is in the hw-data/hw01-data directory\n",
    "data_filename = \"dati_dipartimento.csv\"\n",
    "\n",
    "#we use the open command\n",
    "# IMPORTANT! The file is in the data directory, so we need to use the join command\n",
    "\n",
    "data_file = open(os.path.join(data_dir,data_filename),\"r\")  #r means reading mode\n",
    "\n",
    "#the readlines function gives a list with a line each\n",
    "lines = data_file.readlines()\n",
    "\n",
    "print(lines[0])\n",
    "print(lines[1])\n",
    "print(lines[2])\n"
   ]
  },
  {
   "cell_type": "code",
   "execution_count": 4,
   "metadata": {},
   "outputs": [
    {
     "name": "stdout",
     "output_type": "stream",
     "text": [
      "** File contains 18937 data lines\n"
     ]
    }
   ],
   "source": [
    "# First, remove the comments as we did before..\n",
    "\n",
    "#we can create an output list with only the lines that we want\n",
    "out_list=[]\n",
    "\n",
    "#len is a powerful function that returns the length of a line\n",
    "\n",
    "for li in range(len(lines)):\n",
    "    line = lines[li].strip(\"\\n\")\n",
    "    if (len(line)>0):\n",
    "        if (line[0]!=\"#\"):\n",
    "            #print(line)\n",
    "            out_list.append(line)\n",
    "            \n",
    "print(\"** File contains %d data lines\" % len(out_list))"
   ]
  },
  {
   "cell_type": "code",
   "execution_count": 8,
   "metadata": {},
   "outputs": [
    {
     "name": "stdout",
     "output_type": "stream",
     "text": [
      "header contains 45 columns\n",
      "['COD_FIS', 'GENERE', 'PROV_RES_ATTUALE', 'COM_RES_ATTUALE', 'RES_PREC_SIGLA', 'RES_PREC_DES', 'DIPARTIMENTO', 'TIPO_CORSO_COD', 'TIPO_CORSO_DES', 'CDS_ID', 'CDS_COD', 'AA_IMM1', 'TIPO_TITOLO_SUP_DESC', 'TIPO_TITOLO_STRA_DESC', 'SCUOLA_DESC', 'COMUNE_SCUOLA_DESC', 'PROVINCIA_SCUOLA_SIGLA', 'VOTO_MATURITA', 'VOTO_MIN', 'VOTO_MAX', 'STA_STU_COD', 'STATO_STU_DESC', 'MOT_STASTU_COD', 'MOTIVO_STATO_STU_DESC', 'CDS_PROV', 'AA_ARRIVO_FISL', 'CDS_ARR', 'AA_PARTENZA_FISL', 'CDS_COD_L', 'CDS_DESC_L', 'VOTO_FINALE', 'LODE_FLG', 'ANNO_CT', 'DATA_CT', 'AA_ID', 'COD', 'DES', 'VOTO', 'LODE_FLG_1', 'CREDITI', 'DATA_SUP', 'AA_SUP_ID', 'RIC_ID', 'STA_SCE_COD', 'PRESIDENTE_COMMISSIONE']\n"
     ]
    }
   ],
   "source": [
    "# We can use the first line as header containing the column names.\n",
    "# IMPORTANT NOTE: you can see that the variables are kept among code cells.\n",
    "\n",
    "#\"Codice fiscale, sesso, provincia1, città1, provincia2, città2, fisica, l2, corso, codice corso, fisl, anno diploma, tipo diploma, titolo straniero, nome istituto diploma, città istituto diploma, provincia istituto diploma, voto diploma, minimo voto diploma, massimo voto diploma, codice stato, stato, codice motivo stato, motivo stato, cosa1, anno cosa1, cosa2, anno cosa2, codice laurea, laurea, voto laurea,\"\n",
    "head=\"COD_FIS,GENERE,PROV_RES_ATTUALE,COM_RES_ATTUALE,RES_PREC_SIGLA,RES_PREC_DES,DIPARTIMENTO,TIPO_CORSO_COD,TIPO_CORSO_DES,CDS_ID,CDS_COD,AA_IMM1,TIPO_TITOLO_SUP_DESC,TIPO_TITOLO_STRA_DESC,SCUOLA_DESC,COMUNE_SCUOLA_DESC,PROVINCIA_SCUOLA_SIGLA,VOTO_MATURITA,VOTO_MIN,VOTO_MAX,STA_STU_COD,STATO_STU_DESC,MOT_STASTU_COD,MOTIVO_STATO_STU_DESC,CDS_PROV,AA_ARRIVO_FISL,CDS_ARR,AA_PARTENZA_FISL,CDS_COD_L,CDS_DESC_L,VOTO_FINALE,LODE_FLG,ANNO_CT,DATA_CT,AA_ID,COD,DES,VOTO,LODE_FLG_1,CREDITI,DATA_SUP,AA_SUP_ID,RIC_ID,STA_SCE_COD,PRESIDENTE_COMMISSIONE\"\n",
    "header = head\n",
    "# We can ue the split function to split a long string. \n",
    "# Here we use the comma as separator, but one can use also other characters\n",
    "column_names = header.split(\",\")\n",
    "\n",
    "print(\"header contains %d columns\" % len(column_names))\n",
    "print(column_names)"
   ]
  },
  {
   "cell_type": "code",
   "execution_count": 22,
   "metadata": {},
   "outputs": [
    {
     "name": "stdout",
     "output_type": "stream",
     "text": [
      "Processing row 18936\n",
      "24\n"
     ]
    }
   ],
   "source": [
    "# Now we can create a dictionary of list for each column name, and fill it. \n",
    "# We will use an index for the column (ci) and one for the rows (ri)\n",
    "\n",
    "#create and init a dictionary of lists..\n",
    "data_dict={}\n",
    "for ci in range(len(column_names)):\n",
    "    data_dict[column_names[ci]]=[]\n",
    "\n",
    "\n",
    "#we start from 1 since we want to skip the first line containing the headers.\n",
    "for ri in range(0,len(out_list)):\n",
    "    data_line = out_list[ri].split(\",\")\n",
    "    if(ri==len(out_list)-1): print(\"Processing row %d\" % ri)\n",
    "    for ci in range(len(column_names)):\n",
    "        data_dict[column_names[ci]].append(data_line[ci])\n",
    "print(np.asarray(data_dict['VOTO'][6]))     "
   ]
  },
  {
   "cell_type": "code",
   "execution_count": 30,
   "metadata": {},
   "outputs": [
    {
     "name": "stdout",
     "output_type": "stream",
     "text": [
      "<class 'numpy.ndarray'>\n",
      "<class 'numpy.ndarray'>\n"
     ]
    },
    {
     "ename": "UFuncTypeError",
     "evalue": "ufunc 'add' did not contain a loop with signature matching types (dtype('<U2'), dtype('<U2')) -> dtype('<U2')",
     "output_type": "error",
     "traceback": [
      "\u001b[0;31m---------------------------------------------------------------------------\u001b[0m",
      "\u001b[0;31mUFuncTypeError\u001b[0m                            Traceback (most recent call last)",
      "\u001b[0;32m<ipython-input-30-443ee5a06508>\u001b[0m in \u001b[0;36m<module>\u001b[0;34m\u001b[0m\n\u001b[1;32m      8\u001b[0m             \u001b[0mprint\u001b[0m\u001b[0;34m(\u001b[0m\u001b[0mtype\u001b[0m\u001b[0;34m(\u001b[0m\u001b[0mal\u001b[0m\u001b[0;34m)\u001b[0m\u001b[0;34m)\u001b[0m\u001b[0;34m\u001b[0m\u001b[0;34m\u001b[0m\u001b[0m\n\u001b[1;32m      9\u001b[0m             \u001b[0mprint\u001b[0m\u001b[0;34m(\u001b[0m\u001b[0mtype\u001b[0m\u001b[0;34m(\u001b[0m\u001b[0mtemp\u001b[0m\u001b[0;34m)\u001b[0m\u001b[0;34m)\u001b[0m\u001b[0;34m\u001b[0m\u001b[0;34m\u001b[0m\u001b[0m\n\u001b[0;32m---> 10\u001b[0;31m             \u001b[0mprint\u001b[0m\u001b[0;34m(\u001b[0m\u001b[0mtemp\u001b[0m\u001b[0;34m+\u001b[0m\u001b[0mal\u001b[0m\u001b[0;34m)\u001b[0m\u001b[0;34m\u001b[0m\u001b[0;34m\u001b[0m\u001b[0m\n\u001b[0m\u001b[1;32m     11\u001b[0m             \u001b[0mcount\u001b[0m\u001b[0;34m=\u001b[0m\u001b[0mcount\u001b[0m\u001b[0;34m+\u001b[0m\u001b[0;36m1\u001b[0m\u001b[0;34m\u001b[0m\u001b[0;34m\u001b[0m\u001b[0m\n\u001b[1;32m     12\u001b[0m     \u001b[0mvoto_medio\u001b[0m\u001b[0;34m.\u001b[0m\u001b[0mappend\u001b[0m\u001b[0;34m(\u001b[0m\u001b[0mtemp\u001b[0m\u001b[0;34m/\u001b[0m\u001b[0;34m(\u001b[0m\u001b[0mcount\u001b[0m\u001b[0;34m+\u001b[0m\u001b[0;36m1\u001b[0m\u001b[0;34m)\u001b[0m\u001b[0;34m)\u001b[0m\u001b[0;34m\u001b[0m\u001b[0;34m\u001b[0m\u001b[0m\n",
      "\u001b[0;31mUFuncTypeError\u001b[0m: ufunc 'add' did not contain a loop with signature matching types (dtype('<U2'), dtype('<U2')) -> dtype('<U2')"
     ]
    }
   ],
   "source": [
    "count=0\n",
    "voto_medio=[]\n",
    "for ri in range(0,100):\n",
    "    temp=np.asarray(data_dict['VOTO'][ri+count])\n",
    "    for ro in range(1,20):\n",
    "        if (data_dict[\"COD_FIS\"][ri]==data_dict[\"COD_FIS\"][ri+ro]):\n",
    "            al=np.asarray(data_dict['VOTO'][ri+ro])\n",
    "            print(type(al))\n",
    "            print(type(temp))\n",
    "            print(temp+al)\n",
    "            count=count+1\n",
    "    voto_medio.append(temp/(count+1))\n",
    "            "
   ]
  },
  {
   "cell_type": "code",
   "execution_count": 32,
   "metadata": {},
   "outputs": [
    {
     "ename": "UFuncTypeError",
     "evalue": "ufunc 'multiply' did not contain a loop with signature matching types (dtype('<U2'), dtype('<U2')) -> dtype('<U2')",
     "output_type": "error",
     "traceback": [
      "\u001b[0;31m---------------------------------------------------------------------------\u001b[0m",
      "\u001b[0;31mUFuncTypeError\u001b[0m                            Traceback (most recent call last)",
      "\u001b[0;32m<ipython-input-32-792c35761fc1>\u001b[0m in \u001b[0;36m<module>\u001b[0;34m\u001b[0m\n\u001b[0;32m----> 1\u001b[0;31m \u001b[0mnp\u001b[0m\u001b[0;34m.\u001b[0m\u001b[0masarray\u001b[0m\u001b[0;34m(\u001b[0m\u001b[0mdata_dict\u001b[0m\u001b[0;34m[\u001b[0m\u001b[0;34m'VOTO'\u001b[0m\u001b[0;34m]\u001b[0m\u001b[0;34m[\u001b[0m\u001b[0;36m6\u001b[0m\u001b[0;34m]\u001b[0m\u001b[0;34m)\u001b[0m\u001b[0;34m*\u001b[0m\u001b[0mnp\u001b[0m\u001b[0;34m.\u001b[0m\u001b[0masarray\u001b[0m\u001b[0;34m(\u001b[0m\u001b[0mdata_dict\u001b[0m\u001b[0;34m[\u001b[0m\u001b[0;34m'VOTO'\u001b[0m\u001b[0;34m]\u001b[0m\u001b[0;34m[\u001b[0m\u001b[0;36m7\u001b[0m\u001b[0;34m]\u001b[0m\u001b[0;34m)\u001b[0m\u001b[0;34m\u001b[0m\u001b[0;34m\u001b[0m\u001b[0m\n\u001b[0m",
      "\u001b[0;31mUFuncTypeError\u001b[0m: ufunc 'multiply' did not contain a loop with signature matching types (dtype('<U2'), dtype('<U2')) -> dtype('<U2')"
     ]
    }
   ],
   "source": [
    "np.asarray(data_dict['VOTO'][6])*np.asarray(data_dict['VOTO'][7])"
   ]
  },
  {
   "cell_type": "code",
   "execution_count": null,
   "metadata": {},
   "outputs": [],
   "source": []
  }
 ],
 "metadata": {
  "colab": {
   "name": "exercise1-read-csv.ipynb",
   "provenance": []
  },
  "kernelspec": {
   "display_name": "Python 3",
   "language": "python",
   "name": "python3"
  },
  "language_info": {
   "codemirror_mode": {
    "name": "ipython",
    "version": 3
   },
   "file_extension": ".py",
   "mimetype": "text/x-python",
   "name": "python",
   "nbconvert_exporter": "python",
   "pygments_lexer": "ipython3",
   "version": "3.8.5"
  }
 },
 "nbformat": 4,
 "nbformat_minor": 4
}
