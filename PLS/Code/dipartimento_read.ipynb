{
 "cells": [
  {
   "cell_type": "code",
   "execution_count": 1,
   "metadata": {
    "colab": {},
    "colab_type": "code",
    "id": "5M-SnOdC1PqH"
   },
   "outputs": [],
   "source": [
    "import os   #These two are useful modules\n",
    "import sys\n",
    "\n",
    "import numpy as np #Numerical Python"
   ]
  },
  {
   "cell_type": "code",
   "execution_count": 2,
   "metadata": {
    "colab": {
     "base_uri": "https://localhost:8080/",
     "height": 35
    },
    "colab_type": "code",
    "id": "VCBKOr9W1PqQ",
    "outputId": "697a0956-195b-4204-c47d-912aa384e147"
   },
   "outputs": [
    {
     "name": "stdout",
     "output_type": "stream",
     "text": [
      "I am in dir /home/jovyan/work/grlmrc/PLS/Code\n",
      "Main directory is /home/jovyan/work/grlmrc/PLS\n",
      "data dir is /home/jovyan/work/grlmrc/PLS/Data\n"
     ]
    }
   ],
   "source": [
    "# Let's define te directory where you are with the \"get current working directory\" command...\n",
    "work_dir = os.getcwd()\n",
    "print(\"I am in dir %s\" % work_dir)\n",
    "\n",
    "#We can go up by using the path.dirname\n",
    "main_dir =os.path.dirname(work_dir)\n",
    "print(\"Main directory is %s\" % main_dir)\n",
    "\n",
    "#We can then define the data directory using the os.path.join command\n",
    "data_dir = os.path.join(main_dir,\"Data\")\n",
    "print(\"data dir is %s\" % data_dir)\n",
    "\n",
    "#..and we can define some output directory with the results\n",
    "results_dir = os.path.join(main_dir,\"results\")\n",
    "\n",
    "#if the directory does not exist, you can create it...\n",
    "if not os.path.exists(results_dir):\n",
    "    os.mkdir(results_dir)\n",
    "    print(\"Directory %s created !\" % results_dir)"
   ]
  },
  {
   "cell_type": "markdown",
   "metadata": {
    "colab": {
     "base_uri": "https://localhost:8080/",
     "height": 35
    },
    "colab_type": "code",
    "id": "h-0oY8XQ1PqW",
    "outputId": "8c5458f5-c9d6-47de-e466-0ae46b965bf0"
   },
   "source": [
    "### Opening and exploring a file\n",
    "First of all, we will open a file and explore it, by excluding comments, and deciding how many data lines exists"
   ]
  },
  {
   "cell_type": "code",
   "execution_count": 3,
   "metadata": {
    "colab": {},
    "colab_type": "code",
    "id": "xjryHpEq1iha"
   },
   "outputs": [
    {
     "name": "stdout",
     "output_type": "stream",
     "text": [
      "VLPSRN97L58G273O,F,AG,Agrigento,AG,Agrigento,FISICA,L2,Corso di Laurea,10441,FIS-L,2016,Maturità classica,,LICEO CLASSICO EMPEDOCLE,Agrigento,AG,100,60,100,A,Attivo,IMM,Immatricolazione,CORSO ALTRO DIPARTIMENTO,2017,,,,,,,,,,AD_INT,Attività Didattica integrativa 028BB,28,0,3,22-FEB-18,2017,0,S,08128 - FIDECARO FRANCESCO\n",
      "\n",
      "VLPSRN97L58G273O,F,AG,Agrigento,AG,Agrigento,FISICA,L2,Corso di Laurea,10441,FIS-L,2016,Maturità classica,,LICEO CLASSICO EMPEDOCLE,Agrigento,AG,100,60,100,A,Attivo,IMM,Immatricolazione,CORSO ALTRO DIPARTIMENTO,2017,,,,,,,,,,028BB,FISICA 1,28,0,12,28-LUG-17,2016,4,S,\n",
      "\n",
      "VLPSRN97L58G273O,F,AG,Agrigento,AG,Agrigento,FISICA,L2,Corso di Laurea,10441,FIS-L,2016,Maturità classica,,LICEO CLASSICO EMPEDOCLE,Agrigento,AG,100,60,100,A,Attivo,IMM,Immatricolazione,CORSO ALTRO DIPARTIMENTO,2017,,,,,,,,,,029BB,FISICA 2,23,0,15,08-FEB-19,2018,0,S,04876 - CAVASINNI VINCENZO\n",
      "\n"
     ]
    }
   ],
   "source": [
    "#define the filename, in this case is in the hw-data/hw01-data directory\n",
    "data_filename = \"dati_dipartimento.csv\"\n",
    "\n",
    "#we use the open command\n",
    "# IMPORTANT! The file is in the data directory, so we need to use the join command\n",
    "\n",
    "data_file = open(os.path.join(data_dir,data_filename),\"r\")  #r means reading mode\n",
    "\n",
    "#the readlines function gives a list with a line each\n",
    "lines = data_file.readlines()\n",
    "\n",
    "print(lines[0])\n",
    "print(lines[1])\n",
    "print(lines[2])\n"
   ]
  },
  {
   "cell_type": "code",
   "execution_count": 4,
   "metadata": {},
   "outputs": [
    {
     "name": "stdout",
     "output_type": "stream",
     "text": [
      "** File contains 18937 data lines\n"
     ]
    }
   ],
   "source": [
    "# First, remove the comments as we did before..\n",
    "\n",
    "#we can create an output list with only the lines that we want\n",
    "out_list=[]\n",
    "\n",
    "#len is a powerful function that returns the length of a line\n",
    "\n",
    "for li in range(len(lines)):\n",
    "    line = lines[li].strip(\"\\n\")\n",
    "    if (len(line)>0):\n",
    "        if (line[0]!=\"#\"):\n",
    "            #print(line)\n",
    "            out_list.append(line)\n",
    "            \n",
    "print(\"** File contains %d data lines\" % len(out_list))"
   ]
  },
  {
   "cell_type": "code",
   "execution_count": 6,
   "metadata": {},
   "outputs": [
    {
     "name": "stdout",
     "output_type": "stream",
     "text": [
      "header contains 45 columns\n",
      "['VLPSRN97L58G273O', 'F', 'AG', 'Agrigento', 'AG', 'Agrigento', 'FISICA', 'L2', 'Corso di Laurea', '10441', 'FIS-L', '2016', 'Maturità classica', '', 'LICEO CLASSICO EMPEDOCLE', 'Agrigento', 'AG', '100', '60', '100', 'A', 'Attivo', 'IMM', 'Immatricolazione', 'CORSO ALTRO DIPARTIMENTO', '2017', '', '', '', '', '', '', '', '', '', 'AD_INT', 'Attività Didattica integrativa 028BB', '28', '0', '3', '22-FEB-18', '2017', '0', 'S', '08128 - FIDECARO FRANCESCO']\n"
     ]
    }
   ],
   "source": [
    "# We can use the first line as header containing the column names.\n",
    "# IMPORTANT NOTE: you can see that the variables are kept among code cells.\n",
    "\n",
    "header = out_list[0]\n",
    "\"Codice fiscale, sesso, provincia1, città1, provincia2, città2, fisica, l2, corso, codice corso, fisl, anno diploma, tipo diploma, titolo straniero, nome istituto diploma, città istituto diploma, provincia istituto diploma, voto diploma, minimo voto diploma, massimo voto diploma, codice stato, stato, codice motivo stato, motivo stato, cosa1, anno cosa1, cosa2, anno cosa2, codice laurea, laurea, voto laurea,\"\n",
    "\n",
    "# We can ue the split function to split a long string. \n",
    "# Here we use the comma as separator, but one can use also other characters\n",
    "column_names = header.split(\",\")\n",
    "\n",
    "print(\"header contains %d columns\" % len(column_names))\n",
    "print(column_names)"
   ]
  },
  {
   "cell_type": "code",
   "execution_count": 26,
   "metadata": {},
   "outputs": [
    {
     "name": "stdout",
     "output_type": "stream",
     "text": [
      "Processing row 455\n"
     ]
    }
   ],
   "source": [
    "# Now we can create a dictionary of list for each column name, and fill it. \n",
    "# We will use an index for the column (ci) and one for the rows (ri)\n",
    "\n",
    "#create and init a dictionary of lists..\n",
    "data_dict={}\n",
    "for ci in range(len(column_names)):\n",
    "    data_dict[column_names[ci]]=[]\n",
    "\n",
    "\n",
    "#we start from 1 since we want to skip the first line containing the headers.\n",
    "for ri in range(1,len(out_list)):\n",
    "    data_line = out_list[ri].split(\"; \")\n",
    "    if(ri==len(out_list)-1): print(\"Processing row %d\" % ri)\n",
    "    for ci in range(len(column_names)):\n",
    "        data_dict[column_names[ci]].append(data_line[ci])"
   ]
  },
  {
   "cell_type": "code",
   "execution_count": 27,
   "metadata": {},
   "outputs": [
    {
     "name": "stdout",
     "output_type": "stream",
     "text": [
      "['CPNTSM00D69I330H', 'CPNTSM00D69I330H', 'LVGSRN00H51B832A', 'LVGSRN00H51B832A', 'PRRLNZ00T29F839O', 'JNTLVC00H43I156Y', 'GVNLCU00C23G713I', 'FRSLSE00B61E783I', 'DNTBRN01B17G698V', 'RPNGLI00P61G702V', 'MSCBRN99L30D976R', 'BNSLRZ01D60C415G', 'CSCFNC00T20A390M', 'DLLSML00H10G628B', 'LDTLNI01D62C632B', 'LDTLNI01D62C632B', 'TCCCHR00M60F023U', 'BRBMTT00E29G870Y', 'GVNNDR99E25G491P', 'GVNNDR99E25G491P', 'BNNSFN00E25G702A', 'RSSRHL00P43C722U', 'STRGRL00M31F032W', 'DLCFNC00E25F844I', 'DLCFNC00E25F844I', 'MGLLNZ00C24D451O', 'RNZFNC01A31F656N', 'CHRSML00M28G843N', 'CNLLSN00L03D869P', 'BCHLRD00A27I046M', 'CNTGLI00H19A390D', 'BRNMSO99R03E488E', 'PRRGNN00M17A091K', 'MRNFRC00P17C858H', 'CRNMTT01D18F023B', 'MZZDMN00S05G843G', 'MZZDMN00S05G843G', 'FRRGAI00H60A657L', 'BGNLSE00S46G702J', 'MNCLNZ00R24I726Y', 'CDNGRL00M12D960F', 'PCCNCL00R06F592R', 'CRRGLI00R45F979Y', 'GROGMR00D23I046Z', 'MSLLCU00M30G702X', 'DVRDVD00E19G482I', 'DVRDVD00E19G482I', 'NLLGLC00R29D086C', 'GRZLCU00L12A657J', 'FLPLRD00H30G843D', 'DSTSFN01C02L109X', 'DRNGRG00R65G702Q', 'BNDMTT00P28G843W', 'PLIVLI00T58E463B', 'RMNMRT00P68E463E', 'FBBDVD00D29F023Y', 'BNIRNI00E50D612N', 'PLNSRN00E43D024F', 'MRNTMS00L30F656D', 'BLRLNZ00S21F861Q', 'BLRLNZ00S21F861Q', 'MRNLNE00L51C352P', 'LGRDVD00L08D629V', 'LGRDVD00L08D629V', 'CLDMTT00H23G752Y', 'BGNNCL00M12L400X', 'DPNLSS00H44A794T', 'MNSFNC00L28G702U', 'GTTMRC00D27E625B', 'CPDCLS01L09Z604X', 'MRTFNC00L29E202O', 'KRLJNN99S43Z127G', 'GBBLSE00C54E625T', 'FRRFNC00S05Z404E', 'ZFFLNZ01L12I874W', 'SVSMRT00R50F158Y', 'SVSMRT00R50F158Y', 'SVSMRT00R50F158Y', 'QRTMTN00B62E506Q', 'BRNMRC00M05I449D', 'RBRDNL00H12B157U', 'PDMDNL00H27L013L', 'LSUMNL00T22E435C', 'LMELRD99P29E715I', 'NTUMRC00P28D612W', 'VRCNCL01A01D976G', 'BNCSRN00C49G999P', 'NDLTMS00A18C415Z', 'BRGRTR00T11Z131U', 'SMNGLI00L31F023H', 'CRMLNZ00P17G713T', 'GLTNDR00B08I449J', 'ZKARCE00C19D403D', 'DRNCRS01D29I726Q', 'RNDMTT00H24A091I', 'LPPVVN01A45H096O', 'DTTGRI00B23E456B', 'DTTGRI00B23E456B', 'DTTGRI00B23E456B', 'CLDGPP00E16L109B', 'MSCJSO00L28C773F', 'CRDJRL97L22Z602L', 'LNEMTT00T07I449P', 'GRNDVD00D03A657Q', 'SNSGLI00D23G752B', 'SNSGLI00D23G752B', 'BRGDGI00B18G870I', 'MREJTH00S29G843Q', 'MREJTH00S29G843Q', 'NNLLVC01C23A773D', 'NNLLVC01C23A773D', 'CFFLRD00L17C415P', 'FTTFRC00P05I726Q', 'MNDGPP97M26I639Q', 'VSCLCU00C16F023C', 'SNGMTN01B44G491O', 'CLDNNN00S27L845S', 'MRALNZ00P02F205U', 'LSCFNC00L19G843N', 'PSTSST00S11A841R', 'PSTSST00S11A841R', 'LBRMHL98L30E715V', 'BLLBDT00H65G628R', 'CLSRNI00B64G702N', 'BLDLRT00H15G843U', 'SQLLSS00D23D403F', 'BNCDVD00E29E625X', 'MRTMTA00T06Z131D', 'BTTBBR00E70I046T', 'CSTRCR00M12F839T', 'STNGCM00L28E882G', 'MNFLCA00C63G752I', 'TGNNCL00S66I449P', 'TGNNCL00S66I449P', 'NPELSS00C20D583V', 'RSSLBT00H59A564K', 'RSSLBT00H59A564K', 'SSSLNZ00B02G702C', 'BNDDNC00M24H224U', 'DQTSMN01A30B361D', 'PLDMTT00B26L400B', 'DBRFNC00H07L378S', 'BRSCHR00P66G702O', 'BRSCHR00P66G702O', 'DLVCHR00S63E396V', 'MGNRRA00L48G687N', 'ZCCTHL00M42C710W', 'ZCCTHL00M42C710W', 'ZCCTHL00M42C710W', 'DLCRCC00R69G843P', 'BRRCHR00T68H163R', 'FRLDNS01H14F537M', 'MRONCL00R19H501W', 'BRNFBA00M26A048Y', 'RSSMTT00R12D612S', 'BCCMTT01C23F023F', 'BCCMTT01C23F023F', 'CRMMTT00H14G702L', 'BNCSMN99A29G687L', 'MCLFLR01C68H501Y', 'RIORNI01A64C573P', 'TFLFNC00M05A662E', 'MRNBDN99T12Z129S', 'RDCMRC00T12E435K', 'DGHGRG00M46C219N', 'VLCPTR00C14A794T', 'PLLGLL00T20G273E', 'VLNDHV99R61D458G', 'FLRJCP00L17F592M', 'RZZSMN00S06F842K', 'SSISMN00T19G393I', 'VSSGRL00D15A091T', 'MZZMTT00P19A089L', 'BGNNCL99C15C933H', 'DMNGAI00T47E625U', 'CRTLRT00L30I726V', 'FRNMLY01A48G628C', 'MZZLNR01A58F205I', 'MZZLNR01A58F205I', 'PRTJDN00D04D024R', 'LBLMRC00C10G942X', 'BRBSFN00A28L407R', 'PTRFNC01A18I158I', 'ZRLGLC00A15C424Q', 'FVRJLU00L49G702D', 'FNTLCA00D61L424X', 'TRTSMN01B05F842M', 'RNGFRC96H30C415U', 'NGRLCS00P24E815Q', 'MTAMSS00L54D612T', 'PCCLSS00M07A564L', 'VLRTMS00A20I449B', 'CCCGRG00C15C415Z', 'SLTNDR00B28G702U', 'MTTNTN00S10E507K', 'VNTCHR00B66D969Q', 'FLMSRA00D29F258D', 'TMPGLL01A04D653O', 'LNTFNC00E11H579N', 'LNTFNC00E11H579N', 'MNCGNN00M31F830V', 'ZCCMTS00S29I452H', 'LTTLSN00L26A657C', 'DGSLGU00E30D086I', 'SCRGRL00C26F023H', 'BRTRCR00D01Z131C', 'LDAMRM00R49E715F', 'LDAMRM00R49E715F', 'RGGLSN99T30B068K', 'RGGLSN99T30B068K', 'RGGLSN99T30B068K', 'RGGLSN99T30B068K', 'CMBMNL00S15C352C', 'CSVPTR00C21H199U', 'NZRWTR99R15G273B', 'CNIFNC99C15G702L', 'MNDFNC99B07G478X', 'MNDFNC99B07G478X', 'BNNNCL00B27G702G', 'RCCDGI99H01G843U', 'PLLMRC99C09A326Q', 'SNCRCR98L15E463M', 'LCRDMN99L13G491K', 'PLOFRC99M69G628B', 'DFRNDR99C19G843U', 'PNCGRL99P24C415L', 'MSTLCU99L26F023W', 'LGHMTT98H10I046S', 'ZPPLRD99C19I726G', 'MRNFNC99R10F943D', 'MRNFNC99R10F943D', 'NTLFPP99T03I449D', 'BNDLSS99H64E625B', 'CRNNTN98P17F979E', 'PLLMRC99C20G751C', 'RSSDRA99T17D403A', 'LCUMNL99R26E205M', 'FRCDGI00B25G687T', 'FRCDGI00B25G687T', 'MCCPFR99E14G187U', 'BRTGVR00B69D612M', 'GRCTMS00A08G377U', 'NCNCHR99S47G702N', 'PTTDVD99H14A326D', 'CCNGNI99M10G491F', 'CCNGNI99M10G491F', 'CCNGNI99M10G491F', 'CRRSNO99H46I452T', 'LSTMRC99T22G702H', 'PTTGRG98P48B354D', 'BRGMTT99E01I726C', 'BRGMTT99E01I726C', 'PLLMRC00A13C415X', 'CNTLPA99L24D612L', 'CNTLPA99L24D612L', 'CNTLPA99L24D612L', 'CNTLPA99L24D612L', 'TGNMLS99R49H224E', 'VLNLSN99P21A509Q', 'SGNMGH99L53E202C', 'BRGBRC00D51I754R', 'BRGBRC00D51I754R', 'VRZLNZ99H27D612O', 'BRLLCU00C10I726D', 'DMSGRL00A05I872G', 'CHPNDR99P11F104W', 'RSSLSN99H09I452N', 'RSSLSN99H09I452N', 'BRNPLA99P20F023D', 'GRMMTS99B24H501Z', 'RSSNGL99T11G273R', 'GNTLNZ99R09G843L', 'LZZMLX99E18G377F', 'FRRCLL99R59D024E', 'PLMCLN99C71G702R', 'TRRMNL99T20H700Y', 'GMGLCU99D08E715N', 'GLLVTI99E29G942P', 'GDGLRD99E17E715R', 'VNGCST99R10G438S', 'MNSLNZ00E09A515B', 'PRDMTT99P19E715G', 'BTNYRU99S24B036I', 'FRTRBN99C27D612W', 'PLONND99A29Z222W', 'DLPNDR99M10B832G', 'RCCMTT99H08I921B', 'CRCMRA99H02L049G', 'GNNLSN99H17G713Y', 'GNNLSN99H17G713Y', 'RSUFNC99C02E506L', 'BRRLSN00B61M289K', 'BRSBNC99C55B832D', 'BRSBNC99C55B832D', 'MBRCHR99E54L117P', 'MBRCHR99E54L117P', 'MBRCHR99E54L117P', 'BLTGLI99L48G702Y', 'MNTRRT99M31G687E', 'BRTLEI99L27I449Y', 'SPRFNC99S16E625Y', 'RMNMLD99S56D862Y', 'CLCGGR95S19I449F', 'TMLBNR98R09I726M', 'TMLBNR98R09I726M', 'FNTFRC99E08C352C', 'PRSMLN99D56G015J', 'DNGDMN99H01A040S', 'NTNLSN99B23F023T', 'DLSLFR99D23L219Z', 'VNSMLN00M63F205P', 'VNSMLN00M63F205P', 'VNSMLN00M63F205P', 'VNSMLN00M63F205P', 'VNSMLN00M63F205P', 'VNSMLN00M63F205P', 'PPSGPP98M12G791J', 'PPSGPP98M12G791J', 'PLCLNR99A47M082P', 'BRRCPI99D03G702G', 'BRRCPI99D03G702G', 'NNLLEI99B13I046B', 'NNLLEI99B13I046B', 'NNLLEI99B13I046B', 'NNLLEI99B13I046B', 'NNLLEI99B13I046B', 'NNLLEI99B13I046B', 'CRRLRT00A02F205U', 'CRRLRT00A02F205U', 'CRRLRT00A02F205U', 'GRGLSN99T15G273K', 'RSOMTT99L15G628Q', 'MRRMTT99S10E783M', 'RSSLRI99D67D612T', 'RSSLRI99D67D612T', 'TROLRT00B06F158V', 'GRNLGL00A14E463X', 'BGNFNC99C06G999E', 'SZZMRC99T08A662P', 'CRDLRD00A04E625S', 'MLVMRC99H26E625D', 'STGMHL99T45F979T', 'STGMHL99T45F979T', 'DSNGCM99S25E625D', 'FRNMRL99D68H501H', 'FRNMRL99D68H501H', 'FRNFPP99E07E715I', 'CSTLGU99C14E435B', 'BRLMRC99M20F592W', 'DPLTRS99T41L483Y', 'DPLTRS99T41L483Y', 'BDNNDR99H18D969W', 'BDNNDR99H18D969W', 'GRRFPP99A12A326U', 'FRNMLN99D27Z604C', 'LBRGLI99M26G878R', 'TRRLSN00A21A494C', 'MRNDNN00D57Z604O', 'MRNDNN00D57Z604O', 'GBBMTN99H47I046V', 'GBBMTN99H47I046V', 'CVLCHR00A58G702Q', 'PTRRCR99H12A488C', 'RSSGRG99M42I537A', 'MNCFNC99H17A390P', 'PNZLNZ00A17G843V', 'BSSLGU99P06I480U', 'CMPMZL99M06G438K', 'BNFLNZ00B09B832C', 'RMGMRC99P13D403N', 'CTTFPP99M06G482W', 'SPRPLS99R26H501R', 'CNTNDR99A15F592Q', 'CNTNDR99A15F592Q', 'MRNLVI99H50G752O', 'TSCNCL99B02G628N', 'TSCNCL99B02G628N', 'CCCLCU99C02I324K', 'PLMMRM99M65A662B', 'BRBLNI99E51I537L', 'BRBLNI99E51I537L', 'BRBLNI99E51I537L', 'MLVCHR99E47G713K', 'PTTLNZ99H23E783C', 'PRNGRL00B10G157S', 'TRNGLI99L24A176G', 'CSNDNC99H02C352J', 'CSNDNC99H02C352J', 'BRSTMS99C09F023Z', 'CSTFNC99S23F537X', 'RMNGNN99C29I234G', 'CLSMRA99E27E329K', 'SLASMN00C13B963S', 'GRSLND99S55C415H', 'GRSLND99S55C415H', 'LKLHSM99P07B107N', 'LKLHSM99P07B107N', 'LKLHSM99P07B107N', 'LKLHSM99P07B107N', 'MRTFRC99P11G491S', 'SDRMDM99T56F158R', 'BRZSRN99R66E783S', 'RGGFNC99R18F839G', 'PCRFNC99T02G273K', 'MCCLCU99B12E335U', 'CRSPLP99B19G713V', 'MTNTMS99H18E335Y', 'VLRNCL99D10B832V', 'DSNMTT99M06A488H', 'MNTGLI99C52I726U', 'BRTGAI00A47G491P', 'MNTLCR00A28Z611M', 'MNTLCR00A28Z611M', 'BLLMHL00C27E715L', 'MLZGCM00B23G628X', 'ZZRFNC99T09G843C', 'CCCLNE99T68I156O', 'GRSLEI99D15G702V', 'SCHJCR00A31I452Q', 'BTGLSN99B25I726B', 'BTGLSN99B25I726B', 'DMNLCU99E51I726F', 'DLLLSI99H42G702H', 'HSSMRO97P29G491D', 'NRCFRC97B14F979T', 'RFFMTT96L25G628D', 'PLNLSN96A10B354S', 'MZZFNC96L05A091R', 'CRTGLI99B22G752U', 'FNLTRS99A68A475E', 'FNLTRS99A68A475E', 'LNZLCA99C61I829R', 'MLCMTT99E22G999A', 'JROLNZ97M25G491I', 'RRGFNC98R02I046H', 'RRGFNC98R02I046H', 'BRTDRD95M25G088I', 'BRTDRD95M25G088I', 'FNTMTT98C03L746R', 'FNTMTT98C03L746R', 'PLTGCM98A26B157R', 'SBBMTT98H09G478K', 'SBBMTT98H09G478K', 'SBBMTT98H09G478K', 'SBBMTT98H09G478K', 'BRTMTT98M20B832Y', 'BNVGCM98S14G628J', 'CNCWNY99H70I197W', 'CNCWNY99H70I197W', 'PRSVLI99A53G702G', 'LBRCTN99B42G843N', 'LBRCTN99B42G843N', 'TCCLNZ94E29G843O', 'SRDFNC91S20G702Y', 'CSTLCN82R28I452N']\n"
     ]
    }
   ],
   "source": [
    "print(data_dict[\"Codice fiscale\"])    "
   ]
  },
  {
   "cell_type": "code",
   "execution_count": null,
   "metadata": {},
   "outputs": [],
   "source": []
  }
 ],
 "metadata": {
  "colab": {
   "name": "exercise1-read-csv.ipynb",
   "provenance": []
  },
  "kernelspec": {
   "display_name": "Python 3",
   "language": "python",
   "name": "python3"
  },
  "language_info": {
   "codemirror_mode": {
    "name": "ipython",
    "version": 3
   },
   "file_extension": ".py",
   "mimetype": "text/x-python",
   "name": "python",
   "nbconvert_exporter": "python",
   "pygments_lexer": "ipython3",
   "version": "3.8.5"
  }
 },
 "nbformat": 4,
 "nbformat_minor": 4
}
