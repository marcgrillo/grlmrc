{
 "cells": [
  {
   "cell_type": "code",
   "execution_count": 1,
   "metadata": {},
   "outputs": [],
   "source": [
    "import os   #These two are useful modules\n",
    "import sys\n",
    "\n",
    "import numpy as np #Numerical Python"
   ]
  },
  {
   "cell_type": "code",
   "execution_count": 4,
   "metadata": {},
   "outputs": [],
   "source": [
    "# Let's define te directory where you are with the \"get current working directory\" command...\n",
    "corona_dir = os.getcwd()\n",
    "\n",
    "#We can then define the data directory using the os.path.join command\n",
    "data_dir = os.path.join(corona_dir,\"dati-andamento-nazionale\")\n",
    "\n",
    "#..and we can define some output directory with the results\n",
    "results_dir = os.path.join(corona_dir,\"results\")\n",
    "\n",
    "#if the directory does not exist, you can create it...\n",
    "if not os.path.exists(results_dir):\n",
    "    os.mkdir(results_dir)\n",
    "    print(\"Directory %s created !\" % results_dir)"
   ]
  },
  {
   "cell_type": "code",
   "execution_count": 6,
   "metadata": {},
   "outputs": [
    {
     "name": "stdout",
     "output_type": "stream",
     "text": [
      "0 data,stato,ricoverati_con_sintomi,terapia_intensiva,totale_ospedalizzati,isolamento_domiciliare,totale_attualmente_positivi,nuovi_attualmente_positivi,dimessi_guariti,deceduti,totale_casi,tamponi\n",
      "\n",
      "1 2020-02-24 18:00:00,ITA,101,26,127,94,221,221,1,7,229,4324\n",
      "\n",
      "2 2020-02-25 18:00:00,ITA,114,35,150,162,311,90,1,10,322,8623\n",
      "\n",
      "3 2020-02-26 18:00:00,ITA,128,36,164,221,385,74,3,12,400,9587\n",
      "\n",
      "4 2020-02-27 18:00:00,ITA,248,56,304,284,588,203,45,17,650,12014\n",
      "\n",
      "5 2020-02-28 18:00:00,ITA,345,64,409,412,821,233,46,21,888,15695\n",
      "\n",
      "6 2020-02-29 18:00:00,ITA,401,105,506,543,1049,228,50,29,1128,18661\n",
      "\n",
      "7 2020-03-01 18:00:00,ITA,639,140,779,798,1577,528,83,34,1694,21127\n",
      "\n",
      "8 2020-03-02 18:00:00,ITA,742,166,908,927,1835,258,149,52,2036,23345\n",
      "\n",
      "9 2020-03-03 18:00:00,ITA,1034,229,1263,1000,2263,428,160,79,2502,25856\n",
      "\n",
      "10 2020-03-04 18:00:00,ITA,1346,295,1641,1065,2706,443,276,107,3089,29837\n",
      "\n",
      "11 2020-03-05 18:00:00,ITA,1790,351,2141,1155,3296,590,414,148,3858,32362\n",
      "\n",
      "12 2020-03-06 18:00:00,ITA,2394,462,2856,1060,3916,620,523,197,4636,36359\n",
      "\n",
      "13 2020-03-07 18:00:00,ITA,2651,567,3218,1843,5061,1145,589,233,5883,42062\n",
      "\n",
      "14 2020-03-08 18:00:00,ITA,3557,650,4207,2180,6387,1326,622,366,7375,49937\n",
      "\n",
      "15 2020-03-09 18:00:00,ITA,4316,733,5049,2936,7985,1598,724,463,9172,53826\n",
      "\n",
      "16 2020-03-10 18:00:00,ITA,5038,877,5915,2599,8514,529,1004,631,10149,60761\n",
      "\n",
      "17 2020-03-11 17:00:00,ITA,5838,1028,6866,3724,10590,2076,1045,827,12462,73154\n",
      "\n",
      "18 2020-03-12 17:00:00,ITA,6650,1153,7803,5036,12839,2249,1258,1016,15113,86011\n",
      "\n",
      "19 2020-03-13 17:00:00,ITA,7426,1328,8754,6201,14955,2116,1439,1266,17660,97488\n",
      "\n",
      "20 2020-03-14 17:00:00,ITA,8372,1518,9890,7860,17750,2795,1966,1441,21157,109170\n",
      "\n",
      "21 2020-03-15 17:00:00,ITA,9663,1672,11335,9268,20603,2853,2335,1809,24747,124899\n",
      "\n",
      "22 2020-03-16 17:00:00,ITA,11025,1851,12876,10197,23073,2470,2749,2158,27980,137962\n",
      "\n",
      "23 2020-03-17 17:00:00,ITA,12894,2060,14954,11108,26062,2989,2941,2503,31506,148657\n",
      "\n",
      "24 2020-03-18 17:00:00,ITA,14363,2257,16620,12090,28710,2648,4025,2978,35713,165541\n",
      "\n"
     ]
    }
   ],
   "source": [
    "#define the filename, in this case is in the hw-data/hw01-data directory\n",
    "data_filename = \"dpc-covid19-ita-andamento-nazionale.csv\"\n",
    "\n",
    "#we use the open command\n",
    "data_file = open(os.path.join(data_dir, data_filename),\"r\")  #r means reading mode\n",
    "\n",
    "#the readlines function gives a list with a line each\n",
    "data_lines = data_file.readlines()\n",
    "\n",
    "#you can also run a for loop, writing for the first 10 lines, the line number, the length of each line and the line content \n",
    "for li in range(len(data_lines)):\n",
    "    print(li,data_lines[li])"
   ]
  },
  {
   "cell_type": "code",
   "execution_count": 7,
   "metadata": {},
   "outputs": [
    {
     "name": "stdout",
     "output_type": "stream",
     "text": [
      "header contains 12 columns\n",
      "['data', 'stato', 'ricoverati_con_sintomi', 'terapia_intensiva', 'totale_ospedalizzati', 'isolamento_domiciliare', 'totale_attualmente_positivi', 'nuovi_attualmente_positivi', 'dimessi_guariti', 'deceduti', 'totale_casi', 'tamponi\\n']\n"
     ]
    }
   ],
   "source": [
    "# We can use the first line as header containing the column names.\n",
    "# IMPORTANT NOTE: you can see that the variables are kept among code cells.\n",
    "\n",
    "header = data_lines[0]\n",
    "\n",
    "# We can ue the split function to split a long string. \n",
    "# Here we use the comma as separator, but one can use also other characters\n",
    "column_names = header.split(\",\")\n",
    "\n",
    "print(\"header contains %d columns\" % len(column_names))\n",
    "print(column_names)"
   ]
  },
  {
   "cell_type": "code",
   "execution_count": 8,
   "metadata": {},
   "outputs": [
    {
     "name": "stdout",
     "output_type": "stream",
     "text": [
      "Processing row 1\n",
      "Processing row 2\n",
      "Processing row 3\n",
      "Processing row 4\n",
      "Processing row 5\n",
      "Processing row 6\n",
      "Processing row 7\n",
      "Processing row 8\n",
      "Processing row 9\n",
      "Processing row 10\n",
      "Processing row 11\n",
      "Processing row 12\n",
      "Processing row 13\n",
      "Processing row 14\n",
      "Processing row 15\n",
      "Processing row 16\n",
      "Processing row 17\n",
      "Processing row 18\n",
      "Processing row 19\n",
      "Processing row 20\n",
      "Processing row 21\n",
      "Processing row 22\n",
      "Processing row 23\n",
      "Processing row 24\n"
     ]
    }
   ],
   "source": [
    "# Now we can create a dictionary of list for each column name, and fill it. \n",
    "# We will use an index for the column (ci) and one for the rows (ri)\n",
    "\n",
    "#create and init a dictionary of lists..\n",
    "data_dict={}\n",
    "for ci in range(len(column_names)):\n",
    "    data_dict[column_names[ci]]=[]\n",
    "\n",
    "\n",
    "#we start from 1 since we want to skip the first line containing the headers.\n",
    "for ri in range(1,len(data_lines)):\n",
    "    data_line = data_lines[ri].split(\",\")\n",
    "    print(\"Processing row %d\" % ri)\n",
    "    for ci in range(len(column_names)):\n",
    "        data_dict[column_names[ci]].append(data_line[ci])\n",
    "          "
   ]
  },
  {
   "cell_type": "code",
   "execution_count": 9,
   "metadata": {},
   "outputs": [
    {
     "name": "stdout",
     "output_type": "stream",
     "text": [
      "['221', '311', '385', '588', '821', '1049', '1577', '1835', '2263', '2706', '3296', '3916', '5061', '6387', '7985', '8514', '10590', '12839', '14955', '17750', '20603', '23073', '26062', '28710']\n"
     ]
    }
   ],
   "source": [
    "#print for example the numbers of people who are positive to the virus in time\n",
    "print(data_dict[\"totale_attualmente_positivi\"])    "
   ]
  },
  {
   "cell_type": "code",
   "execution_count": 10,
   "metadata": {},
   "outputs": [
    {
     "name": "stdout",
     "output_type": "stream",
     "text": [
      "[1, 2, 3, 4, 5, 6, 7, 8, 9, 10, 11, 12, 13, 14, 15, 16, 17, 18, 19, 20, 21, 22, 23, 24]\n",
      "[221, 311, 385, 588, 821, 1049, 1577, 1835, 2263, 2706, 3296, 3916, 5061, 6387, 7985, 8514, 10590, 12839, 14955, 17750, 20603, 23073, 26062, 28710]\n"
     ]
    }
   ],
   "source": [
    "#makes an int days vector from the data string vector\n",
    "giorno=[]\n",
    "positivi=[]\n",
    "for gi in range(len(data_dict[\"data\"])):\n",
    "    positivi.append(int(data_dict[\"totale_attualmente_positivi\"][gi]))\n",
    "    if(int(data_dict[\"data\"][gi][5:7])==2):\n",
    "        giorno.append(int(data_dict[\"data\"][gi][8:10])-23)\n",
    "    if(int(data_dict[\"data\"][gi][5:7])==3):\n",
    "        giorno.append(int(data_dict[\"data\"][gi][8:10])+6)\n",
    "    \n",
    "print(giorno)\n",
    "print(positivi)"
   ]
  },
  {
   "cell_type": "code",
   "execution_count": 12,
   "metadata": {},
   "outputs": [
    {
     "name": "stdout",
     "output_type": "stream",
     "text": [
      "[5.04110821e+04 2.26545710e-01 2.27279842e+01]\n",
      "[[ 4.20412325e+06 -8.63601239e+00  7.20156433e+02]\n",
      " [-8.63601239e+00  2.10716364e-05 -1.52088638e-03]\n",
      " [ 7.20156433e+02 -1.52088638e-03  1.24628859e-01]]\n"
     ]
    },
    {
     "data": {
      "image/png": "[encoded data removed]",
      "text/plain": [
       "<Figure size 864x864 with 2 Axes>"
      ]
     },
     "metadata": {
      "needs_background": "light"
     },
     "output_type": "display_data"
    }
   ],
   "source": [
    "from scipy.optimize import curve_fit\n",
    "import matplotlib.pyplot as plt\n",
    "\n",
    "\n",
    "#defining the fit function\n",
    "def fit_function(x, a, b, c):\n",
    "    return a/(1+np.exp(-b*(x-c)))\n",
    "\n",
    "initial_values=(54000, 0.2, 25)\n",
    "pars, covm = curve_fit(fit_function, giorno, positivi, initial_values)\n",
    "\n",
    "x=np.linspace(0,55,140)\n",
    "print(pars)\n",
    "y=pars[0]/(1+np.exp(-pars[1]*(x-pars[2])))\n",
    "res=positivi-pars[0]/(1+np.exp(-pars[1]*(giorno-pars[2])))\n",
    "print(covm)\n",
    "\n",
    "plt.figure(figsize=[12,12])\n",
    "plt.subplot(211)\n",
    "plt.plot(x,y,marker=\"\",color=\"red\",label='Logistic curve fit')\n",
    "plt.scatter(giorno,positivi,marker=\"o\",color=\"blue\",label='Data')\n",
    "plt.xlabel(\"Giorni\",fontsize=18)\n",
    "plt.grid()\n",
    "plt.legend()\n",
    "plt.title('Totale contagi',fontsize=28)\n",
    "plt.tight_layout(pad=8.0)\n",
    "plt.subplot(212)\n",
    "plt.scatter(giorno,res,marker=\"o\",color=\"blue\")\n",
    "plt.xlabel(\"Giorni\",fontsize=18)\n",
    "plt.grid()\n",
    "plt.title('Residui',fontsize=24)\n",
    "plt.savefig('contagi_e_residui.png')\n",
    "plt.show()\n"
   ]
  },
  {
   "cell_type": "code",
   "execution_count": null,
   "metadata": {},
   "outputs": [],
   "source": []
  },
  {
   "cell_type": "code",
   "execution_count": null,
   "metadata": {},
   "outputs": [],
   "source": []
  }
 ],
 "metadata": {
  "kernelspec": {
   "display_name": "Python 3",
   "language": "python",
   "name": "python3"
  },
  "language_info": {
   "codemirror_mode": {
    "name": "ipython",
    "version": 3
   },
   "file_extension": ".py",
   "mimetype": "text/x-python",
   "name": "python",
   "nbconvert_exporter": "python",
   "pygments_lexer": "ipython3",
   "version": "3.7.5"
  }
 },
 "nbformat": 4,
 "nbformat_minor": 2
}
