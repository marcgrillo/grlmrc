{
 "cells": [
  {
   "cell_type": "code",
   "execution_count": 1,
   "metadata": {},
   "outputs": [],
   "source": [
    "import os   #These two are useful modules\n",
    "import sys\n",
    "\n",
    "import numpy as np #Numerical Python"
   ]
  },
  {
   "cell_type": "code",
   "execution_count": 2,
   "metadata": {},
   "outputs": [
    {
     "name": "stdout",
     "output_type": "stream",
     "text": [
      "Directory /home/marco/Documents/corona/grlmrc/results created !\n"
     ]
    }
   ],
   "source": [
    "# Let's define te directory where you are with the \"get current working directory\" command...\n",
    "git_dir = os.getcwd()\n",
    "\n",
    "#We can then define the main directory using the os.path.join command\n",
    "main_dir = os.path.join(git_dir,\"..\")\n",
    "\n",
    "#We can then define the corona directory using the os.path.join command\n",
    "corona_dir = os.path.join(main_dir,\"COVID-19\")\n",
    "\n",
    "#We can then define the data directory using the os.path.join command\n",
    "data_dir = os.path.join(corona_dir,\"dati-andamento-nazionale\")\n",
    "\n",
    "#..and we can define some output directory with the results\n",
    "results_dir = os.path.join(git_dir,\"results\")\n",
    "\n",
    "#if the directory does not exist, you can create it...\n",
    "if not os.path.exists(results_dir):\n",
    "    os.mkdir(results_dir)\n",
    "    print(\"Directory %s created !\" % results_dir)"
   ]
  },
  {
   "cell_type": "code",
   "execution_count": 3,
   "metadata": {},
   "outputs": [
    {
     "name": "stdout",
     "output_type": "stream",
     "text": [
      "0 data,stato,ricoverati_con_sintomi,terapia_intensiva,totale_ospedalizzati,isolamento_domiciliare,totale_positivi,variazione_totale_positivi,nuovi_positivi,dimessi_guariti,deceduti,totale_casi,tamponi,note_it,note_en\n",
      "\n",
      "1 2020-02-24T18:00:00,ITA,101,26,127,94,221,0,221,1,7,229,4324,,\n",
      "\n",
      "2 2020-02-25T18:00:00,ITA,114,35,150,162,311,90,93,1,10,322,8623,,\n",
      "\n",
      "3 2020-02-26T18:00:00,ITA,128,36,164,221,385,74,78,3,12,400,9587,,\n",
      "\n",
      "4 2020-02-27T18:00:00,ITA,248,56,304,284,588,203,250,45,17,650,12014,,\n",
      "\n",
      "5 2020-02-28T18:00:00,ITA,345,64,409,412,821,233,238,46,21,888,15695,,\n",
      "\n",
      "6 2020-02-29T18:00:00,ITA,401,105,506,543,1049,228,240,50,29,1128,18661,,\n",
      "\n",
      "7 2020-03-01T18:00:00,ITA,639,140,779,798,1577,528,566,83,34,1694,21127,,\n",
      "\n",
      "8 2020-03-02T18:00:00,ITA,742,166,908,927,1835,258,342,149,52,2036,23345,,\n",
      "\n",
      "9 2020-03-03T18:00:00,ITA,1034,229,1263,1000,2263,428,466,160,79,2502,25856,,\n",
      "\n",
      "10 2020-03-04T18:00:00,ITA,1346,295,1641,1065,2706,443,587,276,107,3089,29837,,\n",
      "\n",
      "11 2020-03-05T18:00:00,ITA,1790,351,2141,1155,3296,590,769,414,148,3858,32362,,\n",
      "\n",
      "12 2020-03-06T18:00:00,ITA,2394,462,2856,1060,3916,620,778,523,197,4636,36359,,\n",
      "\n",
      "13 2020-03-07T18:00:00,ITA,2651,567,3218,1843,5061,1145,1247,589,233,5883,42062,pd-IT-0003,pd-EN-0003\n",
      "\n",
      "14 2020-03-08T18:00:00,ITA,3557,650,4207,2180,6387,1326,1492,622,366,7375,49937,,\n",
      "\n",
      "15 2020-03-09T18:00:00,ITA,4316,733,5049,2936,7985,1598,1797,724,463,9172,53826,,\n",
      "\n",
      "16 2020-03-10T18:00:00,ITA,5038,877,5915,2599,8514,529,977,1004,631,10149,60761,pd-IT-0005,pd-EN-0005\n",
      "\n",
      "17 2020-03-11T17:00:00,ITA,5838,1028,6866,3724,10590,2076,2313,1045,827,12462,73154,nd-IT-0002,nd-EN-0002\n",
      "\n",
      "18 2020-03-12T17:00:00,ITA,6650,1153,7803,5036,12839,2249,2651,1258,1016,15113,86011,,\n",
      "\n",
      "19 2020-03-13T17:00:00,ITA,7426,1328,8754,6201,14955,2116,2547,1439,1266,17660,97488,,\n",
      "\n",
      "20 2020-03-14T17:00:00,ITA,8372,1518,9890,7860,17750,2795,3497,1966,1441,21157,109170,,\n",
      "\n",
      "21 2020-03-15T17:00:00,ITA,9663,1672,11335,9268,20603,2853,3590,2335,1809,24747,124899,,\n",
      "\n",
      "22 2020-03-16T17:00:00,ITA,11025,1851,12876,10197,23073,2470,3233,2749,2158,27980,137962,nd-IT-0004;nd-IT-0006,nd-EN-0004;nd-EN-0006\n",
      "\n",
      "23 2020-03-17T17:00:00,ITA,12894,2060,14954,11108,26062,2989,3526,2941,2503,31506,148657,nd-IT-0009,nd-EN-0009\n",
      "\n",
      "24 2020-03-18T17:00:00,ITA,14363,2257,16620,12090,28710,2648,4207,4025,2978,35713,165541,nd-IT-0012;nd-IT-0014,nd-EN-0012;nd-EN-0014\n",
      "\n",
      "25 2020-03-19T17:00:00,ITA,15757,2498,18255,14935,33190,4480,5322,4440,3405,41035,182777,,\n",
      "\n",
      "26 2020-03-20T17:00:00,ITA,16020,2655,18675,19185,37860,4670,5986,5129,4032,47021,206886,,\n",
      "\n",
      "27 2020-03-21T17:00:00,ITA,17708,2857,20565,22116,42681,4821,6557,6072,4825,53578,233222,,\n",
      "\n",
      "28 2020-03-22T17:00:00,ITA,19846,3009,22855,23783,46638,3957,5560,7024,5476,59138,258402,,\n",
      "\n",
      "29 2020-03-23T17:00:00,ITA,20692,3204,23896,26522,50418,3780,4789,7432,6077,63927,275468,,\n",
      "\n",
      "30 2020-03-24T17:00:00,ITA,21937,3396,25333,28697,54030,3612,5249,8326,6820,69176,296964,,\n",
      "\n",
      "31 2020-03-25T17:00:00,ITA,23112,3489,26601,30920,57521,3491,5210,9362,7503,74386,324445,,\n",
      "\n",
      "32 2020-03-26T17:00:00,ITA,24753,3612,28365,33648,62013,4492,6153,10361,8165,80539,361060,pd-IT-0007,pd-EN-0007\n",
      "\n",
      "33 2020-03-27T17:00:00,ITA,26029,3732,29761,36653,66414,4401,5959,10950,9134,86498,394079,,\n",
      "\n",
      "34 2020-03-28T17:00:00,ITA,26676,3856,30532,39533,70065,3651,5974,12384,10023,92472,429526,,\n",
      "\n",
      "35 2020-03-29T17:00:00,ITA,27386,3906,31292,42588,73880,3815,5217,13030,10779,97689,454030,pd-IT-0009,pd-EN-0009\n",
      "\n",
      "36 2020-03-30T17:00:00,ITA,27795,3981,31776,43752,75528,1648,4050,14620,11591,101739,477359,,\n",
      "\n",
      "37 2020-03-31T17:00:00,ITA,28192,4023,32215,45420,77635,2107,4053,15729,12428,105792,506968,,\n",
      "\n",
      "38 2020-04-01T17:00:00,ITA,28403,4035,32438,48134,80572,2937,4782,16847,13155,110574,541423,,\n",
      "\n",
      "39 2020-04-02T17:00:00,ITA,28540,4053,32593,50456,83049,2477,4668,18278,13915,115242,581232,,\n",
      "\n",
      "40 2020-04-03T17:00:00,ITA,28741,4068,32809,52579,85388,2339,4585,19758,14681,119827,619849,,\n",
      "\n"
     ]
    }
   ],
   "source": [
    "#define the filename, in this case is in the hw-data/hw01-data directory\n",
    "data_filename = \"dpc-covid19-ita-andamento-nazionale.csv\"\n",
    "\n",
    "#we use the open command\n",
    "data_file = open(os.path.join(data_dir, data_filename),\"r\")  #r means reading mode\n",
    "\n",
    "#the readlines function gives a list with a line each\n",
    "data_lines = data_file.readlines()\n",
    "\n",
    "#you can also run a for loop, writing for the first 10 lines, the line number, the length of each line and the line content \n",
    "for li in range(len(data_lines)):\n",
    "    print(li,data_lines[li])"
   ]
  },
  {
   "cell_type": "code",
   "execution_count": 4,
   "metadata": {},
   "outputs": [
    {
     "name": "stdout",
     "output_type": "stream",
     "text": [
      "header contains 15 columns\n",
      "['data', 'stato', 'ricoverati_con_sintomi', 'terapia_intensiva', 'totale_ospedalizzati', 'isolamento_domiciliare', 'totale_positivi', 'variazione_totale_positivi', 'nuovi_positivi', 'dimessi_guariti', 'deceduti', 'totale_casi', 'tamponi', 'note_it', 'note_en\\n']\n"
     ]
    }
   ],
   "source": [
    "# We can use the first line as header containing the column names.\n",
    "# IMPORTANT NOTE: you can see that the variables are kept among code cells.\n",
    "\n",
    "header = data_lines[0]\n",
    "\n",
    "# We can ue the split function to split a long string. \n",
    "# Here we use the comma as separator, but one can use also other characters\n",
    "column_names = header.split(\",\")\n",
    "\n",
    "print(\"header contains %d columns\" % len(column_names))\n",
    "print(column_names)"
   ]
  },
  {
   "cell_type": "code",
   "execution_count": 5,
   "metadata": {},
   "outputs": [
    {
     "name": "stdout",
     "output_type": "stream",
     "text": [
      "Processing row 1\n",
      "Processing row 2\n",
      "Processing row 3\n",
      "Processing row 4\n",
      "Processing row 5\n",
      "Processing row 6\n",
      "Processing row 7\n",
      "Processing row 8\n",
      "Processing row 9\n",
      "Processing row 10\n",
      "Processing row 11\n",
      "Processing row 12\n",
      "Processing row 13\n",
      "Processing row 14\n",
      "Processing row 15\n",
      "Processing row 16\n",
      "Processing row 17\n",
      "Processing row 18\n",
      "Processing row 19\n",
      "Processing row 20\n",
      "Processing row 21\n",
      "Processing row 22\n",
      "Processing row 23\n",
      "Processing row 24\n",
      "Processing row 25\n",
      "Processing row 26\n",
      "Processing row 27\n",
      "Processing row 28\n",
      "Processing row 29\n",
      "Processing row 30\n",
      "Processing row 31\n",
      "Processing row 32\n",
      "Processing row 33\n",
      "Processing row 34\n",
      "Processing row 35\n",
      "Processing row 36\n",
      "Processing row 37\n",
      "Processing row 38\n",
      "Processing row 39\n",
      "Processing row 40\n"
     ]
    }
   ],
   "source": [
    "# Now we can create a dictionary of list for each column name, and fill it. \n",
    "# We will use an index for the column (ci) and one for the rows (ri)\n",
    "\n",
    "#create and init a dictionary of lists..\n",
    "data_dict={}\n",
    "for ci in range(len(column_names)):\n",
    "    data_dict[column_names[ci]]=[]\n",
    "\n",
    "\n",
    "#we start from 1 since we want to skip the first line containing the headers.\n",
    "for ri in range(1,len(data_lines)):\n",
    "    data_line = data_lines[ri].split(\",\")\n",
    "    print(\"Processing row %d\" % ri)\n",
    "    for ci in range(len(column_names)):\n",
    "        data_dict[column_names[ci]].append(data_line[ci])\n",
    "          "
   ]
  },
  {
   "cell_type": "code",
   "execution_count": 6,
   "metadata": {},
   "outputs": [
    {
     "name": "stdout",
     "output_type": "stream",
     "text": [
      "['221', '311', '385', '588', '821', '1049', '1577', '1835', '2263', '2706', '3296', '3916', '5061', '6387', '7985', '8514', '10590', '12839', '14955', '17750', '20603', '23073', '26062', '28710', '33190', '37860', '42681', '46638', '50418', '54030', '57521', '62013', '66414', '70065', '73880', '75528', '77635', '80572', '83049', '85388']\n"
     ]
    }
   ],
   "source": [
    "#print for example the numbers of people who are positive to the virus in time\n",
    "print(data_dict[\"totale_positivi\"])    "
   ]
  },
  {
   "cell_type": "code",
   "execution_count": 7,
   "metadata": {},
   "outputs": [
    {
     "name": "stdout",
     "output_type": "stream",
     "text": [
      "[ 1  2  3  4  5  6  7  8  9 10 11 12 13 14 15 16 17 18 19 20 21 22 23 24\n",
      " 25 26 27 28 29 30 31 32 33 34 35 36 37 38 39 40]\n",
      "[  221   311   385   588   821  1049  1577  1835  2263  2706  3296  3916\n",
      "  5061  6387  7985  8514 10590 12839 14955 17750 20603 23073 26062 28710\n",
      " 33190 37860 42681 46638 50418 54030 57521 62013 66414 70065 73880 75528\n",
      " 77635 80572 83049 85388]\n"
     ]
    }
   ],
   "source": [
    "#makes an int days vector from the data string vector\n",
    "giorno=[]\n",
    "positivi=[]\n",
    "for gi in range(len(data_dict[\"data\"])):\n",
    "    positivi.append(int(data_dict[\"totale_positivi\"][gi]))\n",
    "    if(int(data_dict[\"data\"][gi][5:7])==2):\n",
    "        giorno.append(int(data_dict[\"data\"][gi][8:10])-23)\n",
    "    if(int(data_dict[\"data\"][gi][5:7])==3):\n",
    "        giorno.append(int(data_dict[\"data\"][gi][8:10])+6)\n",
    "    if(int(data_dict[\"data\"][gi][5:7])==4):\n",
    "        giorno.append(int(data_dict[\"data\"][gi][8:10])+37)\n",
    "    if(int(data_dict[\"data\"][gi][5:7])==5):\n",
    "        giorno.append(int(data_dict[\"data\"][gi][8:10])+67)\n",
    "        \n",
    "giorno=np.asarray(giorno)\n",
    "positivi=np.asarray(positivi)\n",
    "print(giorno)\n",
    "print(positivi)"
   ]
  },
  {
   "cell_type": "code",
   "execution_count": 8,
   "metadata": {},
   "outputs": [
    {
     "name": "stdout",
     "output_type": "stream",
     "text": [
      "i parametri sono  [9.44947036e+04 1.82612151e-01 2.82914468e+01] \n",
      "\n",
      "la matrice di covarianza e' \n",
      " [[ 4.97091880e+05 -1.21204904e+00  7.50884081e+01]\n",
      " [-1.21204904e+00  4.21143938e-06 -1.85899513e-04]\n",
      " [ 7.50884081e+01 -1.85899513e-04  1.25897764e-02]]\n"
     ]
    },
    {
     "data": {
      "text/plain": [
       "<Figure size 1200x1200 with 2 Axes>"
      ]
     },
     "metadata": {},
     "output_type": "display_data"
    }
   ],
   "source": [
    "from scipy.optimize import curve_fit\n",
    "import matplotlib.pyplot as plt\n",
    "import time\n",
    "\n",
    "\n",
    "#stima il numero totale di casi\n",
    "n=90000\n",
    "\n",
    "#defining the fit function\n",
    "def fit_function(x, a, b, c):\n",
    "    return a/(1+np.exp(-b*(x-c)))\n",
    "\n",
    "initial_values=(n, 0.2, 28)\n",
    "pars, covm = curve_fit(fit_function, giorno, positivi, initial_values)\n",
    "print(\"i parametri sono \",pars,\"\\n\")\n",
    "\n",
    "x=np.linspace(0,65,140)\n",
    "y=pars[0]/(1+np.exp(-pars[1]*(x-pars[2])))\n",
    "res=positivi-pars[0]/(1+np.exp(-pars[1]*(giorno-pars[2])))\n",
    "print(\"la matrice di covarianza e' \\n\",covm)\n",
    "\n",
    "plt.figure(figsize=[12,12])\n",
    "plt.subplot(211)\n",
    "plt.plot(x,y,marker=\"\",color=\"red\",label='Logistic curve fit')\n",
    "plt.scatter(giorno,positivi,marker=\"o\",color=\"blue\",label='Data')\n",
    "plt.xlabel(\"Giorni\",fontsize=18)\n",
    "plt.grid()\n",
    "plt.legend()\n",
    "plt.title('Totale contagi',fontsize=28)\n",
    "plt.tight_layout(pad=8.0)\n",
    "plt.subplot(212)\n",
    "plt.scatter(giorno,res,marker=\"o\",color=\"blue\")\n",
    "plt.xlabel(\"Giorni\",fontsize=18)\n",
    "plt.grid()\n",
    "plt.title('Residui',fontsize=24)\n",
    "\n",
    "destinazione_log=\"/contagi_e_residui_logistic_\"+time.strftime(\"%d-%m-%Y\")+\".png\"\n",
    "plt.savefig(results_dir + destinazione_log)\n",
    "plt.show()\n"
   ]
  },
  {
   "cell_type": "code",
   "execution_count": 9,
   "metadata": {},
   "outputs": [
    {
     "name": "stdout",
     "output_type": "stream",
     "text": [
      "i parametri sono  [ 1.27551575e+05 -1.00154554e+01  8.16332225e-02] \n",
      "\n",
      "la matrice di covarianza e' \n",
      " [[ 1.61582792e+07  1.63656840e+03 -1.09442073e+01]\n",
      " [ 1.63656840e+03  2.19212494e-01 -1.28743234e-03]\n",
      " [-1.09442073e+01 -1.28743234e-03  8.04454665e-06]]\n"
     ]
    },
    {
     "data": {
      "image/png": "[encoded data removed]",
      "text/plain": [
       "<Figure size 864x864 with 2 Axes>"
      ]
     },
     "metadata": {
      "needs_background": "light"
     },
     "output_type": "display_data"
    }
   ],
   "source": [
    "from scipy.optimize import curve_fit\n",
    "import matplotlib.pyplot as plt\n",
    "import time\n",
    "\n",
    "#stima il numero totale di casi\n",
    "n=127000\n",
    "\n",
    "#defining the fit function\n",
    "def fit_function(x, a, b, c):\n",
    "    return a*np.exp(b*np.exp(-c*x))\n",
    "\n",
    "initial_values=(n, np.log(1/n), 0.08)\n",
    "pars, covm = curve_fit(fit_function, giorno, positivi, initial_values)\n",
    "print(\"i parametri sono \",pars,\"\\n\")\n",
    "x=np.linspace(0,100,240)\n",
    "\n",
    "y=pars[0]*np.exp(pars[1]*np.exp(-pars[2]*x))\n",
    "res=positivi-pars[0]*np.exp(pars[1]*np.exp(-pars[2]*giorno))\n",
    "print(\"la matrice di covarianza e' \\n\",covm)\n",
    "\n",
    "plt.figure(figsize=[12,12])\n",
    "plt.subplot(211)\n",
    "plt.plot(x,y,marker=\"\",color=\"red\",label='Gompertz curve fit')\n",
    "plt.scatter(giorno,positivi,marker=\"o\",color=\"blue\",label='Data')\n",
    "plt.xlabel(\"Giorni\",fontsize=18)\n",
    "plt.grid()\n",
    "plt.legend()\n",
    "plt.title('Totale contagi',fontsize=28)\n",
    "plt.tight_layout(pad=8.0)\n",
    "plt.subplot(212)\n",
    "plt.scatter(giorno,res,marker=\"o\",color=\"blue\")\n",
    "plt.xlabel(\"Giorni\",fontsize=18)\n",
    "plt.grid()\n",
    "plt.title('Residui',fontsize=24)\n",
    "\n",
    "destinazione_gom=\"/contagi_e_residui_gompertz_\"+time.strftime(\"%d-%m-%Y\")+\".png\"\n",
    "plt.savefig(results_dir + destinazione_gom)\n",
    "plt.show()\n"
   ]
  },
  {
   "cell_type": "code",
   "execution_count": null,
   "metadata": {},
   "outputs": [],
   "source": []
  },
  {
   "cell_type": "code",
   "execution_count": null,
   "metadata": {},
   "outputs": [],
   "source": []
  },
  {
   "cell_type": "code",
   "execution_count": null,
   "metadata": {},
   "outputs": [],
   "source": []
  }
 ],
 "metadata": {
  "kernelspec": {
   "display_name": "Python 3",
   "language": "python",
   "name": "python3"
  },
  "language_info": {
   "codemirror_mode": {
    "name": "ipython",
    "version": 3
   },
   "file_extension": ".py",
   "mimetype": "text/x-python",
   "name": "python",
   "nbconvert_exporter": "python",
   "pygments_lexer": "ipython3",
   "version": "3.7.5"
  }
 },
 "nbformat": 4,
 "nbformat_minor": 2
}
